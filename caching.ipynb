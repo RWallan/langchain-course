{
 "cells": [
  {
   "cell_type": "markdown",
   "id": "a7c119f1-a03f-402e-838b-61018698a3e5",
   "metadata": {},
   "source": [
    "# Caching\n",
    "\n",
    "O LangChain fornece a possibilidade de salvar inputs/outputs em caching para que o modelo possa responder rapidamente e diminuir custos de requisição de API."
   ]
  },
  {
   "cell_type": "markdown",
   "id": "766f1c3a-34ae-4acc-8a56-ffdab606c8cc",
   "metadata": {},
   "source": [
    "## Setup"
   ]
  },
  {
   "cell_type": "code",
   "execution_count": 1,
   "id": "c5f44baa-143a-4121-8e37-11588b26462a",
   "metadata": {},
   "outputs": [],
   "source": [
    "import hashlib\n",
    "import json\n",
    "\n",
    "from dotenv import find_dotenv, load_dotenv\n",
    "from langchain_openai import OpenAI\n",
    "from langchain_core.caches import InMemoryCache\n",
    "from langchain_community.cache import SQLiteCache\n",
    "from langchain_core.globals import set_llm_cache\n",
    "\n",
    "_ = load_dotenv(find_dotenv('.env'))"
   ]
  },
  {
   "cell_type": "markdown",
   "id": "6674222f-a9a2-4ddb-b2a3-d9b9ec4daac2",
   "metadata": {},
   "source": [
    "## Memória"
   ]
  },
  {
   "cell_type": "code",
   "execution_count": 2,
   "id": "25feecbb-d7c7-4e75-9f14-5b9a1fe9e584",
   "metadata": {},
   "outputs": [],
   "source": [
    "openai = OpenAI(model='gpt-3.5-turbo-instruct')\n",
    "set_llm_cache(InMemoryCache())"
   ]
  },
  {
   "cell_type": "code",
   "execution_count": 3,
   "id": "fdbf84d8-1a80-4cec-b208-5759775d26df",
   "metadata": {},
   "outputs": [],
   "source": [
    "PROMPT = 'Me diga em poucas palavras quem foi Carl Sagan'"
   ]
  },
  {
   "cell_type": "code",
   "execution_count": 4,
   "id": "34941d07-aad7-44b7-ab28-f5394d9a4dfb",
   "metadata": {},
   "outputs": [
    {
     "name": "stdout",
     "output_type": "stream",
     "text": [
      "Resposta sem cache: \n",
      "\n",
      "Carl Sagan foi um renomado astrônomo, astrofísico, cosmólogo, escritor e divulgador científico americano, conhecido por popularizar a ciência e a exploração espacial através de seus livros, programas de televisão e palestras. Ele também foi um defensor da pesquisa científica e da busca por vida extraterrestre. Sua obra mais famosa é a série de TV \"Cosmos\", que se tornou um marco na divulgação científica. Sagan também foi um ativista ambiental e crítico da pseudociência e do uso indevido da ciência. Ele faleceu em 1996, deixando um legado duradouro na comunidade científica e na sociedade em geral.\n"
     ]
    }
   ],
   "source": [
    "response_without_cache = openai.invoke(PROMPT)\n",
    "\n",
    "print('Resposta sem cache:', response_without_cache)"
   ]
  },
  {
   "cell_type": "code",
   "execution_count": 5,
   "id": "2a3ac7a2-4947-4023-a512-cd888310e70e",
   "metadata": {},
   "outputs": [
    {
     "name": "stdout",
     "output_type": "stream",
     "text": [
      "Resposta com cache: \n",
      "\n",
      "Carl Sagan foi um renomado astrônomo, astrofísico, cosmólogo, escritor e divulgador científico americano, conhecido por popularizar a ciência e a exploração espacial através de seus livros, programas de televisão e palestras. Ele também foi um defensor da pesquisa científica e da busca por vida extraterrestre. Sua obra mais famosa é a série de TV \"Cosmos\", que se tornou um marco na divulgação científica. Sagan também foi um ativista ambiental e crítico da pseudociência e do uso indevido da ciência. Ele faleceu em 1996, deixando um legado duradouro na comunidade científica e na sociedade em geral.\n"
     ]
    }
   ],
   "source": [
    "response_with_cache = openai.invoke(PROMPT)\n",
    "print('Resposta com cache:', response_with_cache)"
   ]
  },
  {
   "cell_type": "markdown",
   "id": "3a6a52ce-9fbf-4763-a477-dba2916ed560",
   "metadata": {},
   "source": [
    "## Disco/Banco de Dados"
   ]
  },
  {
   "cell_type": "code",
   "execution_count": 6,
   "id": "c9729fcb-abfc-4262-b8d5-ad530c77d73e",
   "metadata": {},
   "outputs": [],
   "source": [
    "set_llm_cache(SQLiteCache(database_path='cache.db'))"
   ]
  },
  {
   "cell_type": "code",
   "execution_count": 7,
   "id": "df5801cc-65ff-4f17-87cd-9136ccd9b517",
   "metadata": {},
   "outputs": [],
   "source": [
    "PROMPT = 'Me diga em poucas palavras quem foi Neil Armstrong'"
   ]
  },
  {
   "cell_type": "code",
   "execution_count": 8,
   "id": "3d3532eb-c432-48b0-9284-3d5f4dbdc18f",
   "metadata": {},
   "outputs": [
    {
     "name": "stdout",
     "output_type": "stream",
     "text": [
      "Resposta sem cache: \n",
      "\n",
      "Neil Armstrong foi um astronauta e engenheiro aeroespacial americano que se tornou o primeiro ser humano a pisar na Lua em 1969 como parte da missão Apollo 11. Ele é considerado um herói nacional e um pioneiro na exploração espacial. \n"
     ]
    }
   ],
   "source": [
    "response_without_cache = openai.invoke(PROMPT)\n",
    "print('Resposta sem cache:', response_without_cache)"
   ]
  },
  {
   "cell_type": "code",
   "execution_count": 9,
   "id": "78e16900-42f8-46fe-833f-5a41c2c28c86",
   "metadata": {},
   "outputs": [
    {
     "name": "stdout",
     "output_type": "stream",
     "text": [
      "Resposta com cache: \n",
      "\n",
      "Neil Armstrong foi um astronauta e engenheiro aeroespacial americano que se tornou o primeiro ser humano a pisar na Lua em 1969 como parte da missão Apollo 11. Ele é considerado um herói nacional e um pioneiro na exploração espacial. \n"
     ]
    }
   ],
   "source": [
    "response_with_cache = openai.invoke(PROMPT)\n",
    "print('Resposta com cache:', response_with_cache)"
   ]
  },
  {
   "cell_type": "markdown",
   "id": "82a9ad16-90be-4c0a-97ce-53674934aacc",
   "metadata": {},
   "source": [
    "## Personalizado"
   ]
  },
  {
   "cell_type": "code",
   "execution_count": 28,
   "id": "07fc0da4-fdd5-4429-a3e3-15a2c9fcc01e",
   "metadata": {},
   "outputs": [],
   "source": [
    "import hashlib\n",
    "import json\n",
    "from pathlib import Path\n",
    "\n",
    "from langchain_core.caches import BaseCache\n",
    "from langchain_core.load.dump import dumps\n",
    "from langchain_core.load.load import loads\n",
    "from langchain_core.outputs import Generation\n",
    "\n",
    "class SimpleDiskCache(BaseCache):\n",
    "    def __init__(self, cache_dir='cache_dir'):\n",
    "        self.cache_dir = Path(cache_dir)\n",
    "        self.cache_dir.mkdir(exist_ok=True)\n",
    "\n",
    "    def _get_cache_path(self, prompt):\n",
    "        \"\"\"Cria nome do arquivo de cache único.\"\"\"\n",
    "        hashed_key = hashlib.md5(prompt.encode()).hexdigest()\n",
    "\n",
    "        return self.cache_dir / f'{hashed_key}.json'\n",
    "\n",
    "    def lookup(self, prompt, llm_string):\n",
    "        cache_path = self._get_cache_path(prompt)\n",
    "\n",
    "        if cache_path.exists():\n",
    "            cached_response = cache_path.read_text()\n",
    "\n",
    "            return loads(cached_response)\n",
    "        return None\n",
    "\n",
    "    def update(self, prompt, llm_string, return_val):\n",
    "        cache_path = self._get_cache_path(prompt)\n",
    "        cache_path.write_text(dumps(return_val))\n",
    "\n",
    "    def clear(self, prompt):\n",
    "        cache_path = self._get_cache_path(prompt)\n",
    "        cache_path.unlink()"
   ]
  },
  {
   "cell_type": "code",
   "execution_count": 29,
   "id": "3f51b904-4ef1-44a6-bb1e-d0bf5e9f8719",
   "metadata": {},
   "outputs": [],
   "source": [
    "set_llm_cache(SimpleDiskCache())\n",
    "PROMPT = 'Me diga quem foi Neil Armstrong'"
   ]
  },
  {
   "cell_type": "code",
   "execution_count": 30,
   "id": "b4cc961f-9930-4e29-a33d-de11653a1380",
   "metadata": {
    "scrolled": true
   },
   "outputs": [
    {
     "name": "stdout",
     "output_type": "stream",
     "text": [
      "Resposta sem cache: \n",
      "\n",
      "Neil Armstrong foi um astronauta e engenheiro aeroespacial norte-americano, conhecido por ser o primeiro ser humano a pisar na Lua, durante a missão Apollo 11 em 1969. Ele nasceu em 5 de agosto de 1930 em Ohio, nos Estados Unidos, e faleceu em 25 de agosto de 2012. Além de sua famosa conquista na Lua, Armstrong também foi piloto de testes da Força Aérea dos EUA e participou de outras missões espaciais, como a Gemini 8. Ele é considerado um dos maiores heróis da exploração espacial e um símbolo de coragem e determinação. \n"
     ]
    }
   ],
   "source": [
    "response_without_cache = openai.invoke(PROMPT)\n",
    "print('Resposta sem cache:', response_without_cache)"
   ]
  },
  {
   "cell_type": "code",
   "execution_count": 31,
   "id": "1877dc97-812e-4839-99e7-222733f3535e",
   "metadata": {},
   "outputs": [
    {
     "name": "stdout",
     "output_type": "stream",
     "text": [
      "Resposta com cache: \n",
      "\n",
      "Neil Armstrong foi um astronauta e engenheiro aeroespacial norte-americano, conhecido por ser o primeiro ser humano a pisar na Lua, durante a missão Apollo 11 em 1969. Ele nasceu em 5 de agosto de 1930 em Ohio, nos Estados Unidos, e faleceu em 25 de agosto de 2012. Além de sua famosa conquista na Lua, Armstrong também foi piloto de testes da Força Aérea dos EUA e participou de outras missões espaciais, como a Gemini 8. Ele é considerado um dos maiores heróis da exploração espacial e um símbolo de coragem e determinação. \n"
     ]
    }
   ],
   "source": [
    "response_with_cache = openai.invoke(PROMPT)\n",
    "print('Resposta com cache:', response_with_cache)"
   ]
  },
  {
   "cell_type": "code",
   "execution_count": null,
   "id": "dfc7238e-5aac-4210-a10c-e67ccef53349",
   "metadata": {},
   "outputs": [],
   "source": []
  }
 ],
 "metadata": {
  "kernelspec": {
   "display_name": "Python 3 (ipykernel)",
   "language": "python",
   "name": "python3"
  },
  "language_info": {
   "codemirror_mode": {
    "name": "ipython",
    "version": 3
   },
   "file_extension": ".py",
   "mimetype": "text/x-python",
   "name": "python",
   "nbconvert_exporter": "python",
   "pygments_lexer": "ipython3",
   "version": "3.13.2"
  }
 },
 "nbformat": 4,
 "nbformat_minor": 5
}
