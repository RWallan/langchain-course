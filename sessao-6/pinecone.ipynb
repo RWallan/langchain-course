{
 "cells": [
  {
   "cell_type": "markdown",
   "id": "55c9879d-7d36-4a24-a831-c71ba139de02",
   "metadata": {},
   "source": [
    "# Pinecone\n",
    "\n",
    "Aplicando o sdk do pinecone."
   ]
  },
  {
   "cell_type": "markdown",
   "id": "0c92810e-1f8c-4911-ad64-db8e6710caef",
   "metadata": {},
   "source": [
    "## Setup"
   ]
  },
  {
   "cell_type": "code",
   "execution_count": 1,
   "id": "881502cf-af4c-4ac9-b7c1-bcf61e79ea79",
   "metadata": {},
   "outputs": [],
   "source": [
    "import numpy as np\n",
    "from dotenv import find_dotenv, load_dotenv\n",
    "from pinecone import Pinecone"
   ]
  },
  {
   "cell_type": "code",
   "execution_count": 2,
   "id": "45f71a60-99e4-478f-a9fc-2a46bd3d6a8c",
   "metadata": {},
   "outputs": [],
   "source": [
    "_ = load_dotenv(find_dotenv('.env'))"
   ]
  },
  {
   "cell_type": "code",
   "execution_count": 3,
   "id": "900b2edd-06dc-4ae8-9168-ee1f463accdf",
   "metadata": {},
   "outputs": [],
   "source": [
    "client = Pinecone()"
   ]
  },
  {
   "cell_type": "markdown",
   "id": "c0c655b3-d3a9-4600-ab8a-e6499cb5fcca",
   "metadata": {},
   "source": [
    "## Pinecone"
   ]
  },
  {
   "cell_type": "code",
   "execution_count": 23,
   "id": "66d3b845-894d-4353-a070-57bfaab21256",
   "metadata": {},
   "outputs": [
    {
     "name": "stdout",
     "output_type": "stream",
     "text": [
      "Index: nlp\n",
      "{'deletion_protection': 'disabled',\n",
      " 'dimension': 2048,\n",
      " 'host': 'nlp-vca9rnc.svc.aped-4627-b74a.pinecone.io',\n",
      " 'metric': 'cosine',\n",
      " 'name': 'nlp',\n",
      " 'spec': {'serverless': {'cloud': 'aws', 'region': 'us-east-1'}},\n",
      " 'status': {'ready': True, 'state': 'Ready'},\n",
      " 'tags': None,\n",
      " 'vector_type': 'dense'}\n"
     ]
    }
   ],
   "source": [
    "index = client.list_indexes()\n",
    "for i in index:\n",
    "    index_name = i['name']\n",
    "    print(f'Index: {index_name}')\n",
    "    print(client.describe_index(index_name))"
   ]
  },
  {
   "cell_type": "code",
   "execution_count": 24,
   "id": "e9523079-e885-45e7-9002-4fc2d2b269c0",
   "metadata": {},
   "outputs": [],
   "source": [
    "index_name = 'nlp'"
   ]
  },
  {
   "cell_type": "markdown",
   "id": "37c20a2a-1e9d-42f0-bd5f-c6ddf0f3e9c8",
   "metadata": {},
   "source": [
    "### Upsert\n",
    "\n",
    "Operação que atualiza e/ou insere um vetor."
   ]
  },
  {
   "cell_type": "code",
   "execution_count": 13,
   "id": "ecad35c7-9e03-47db-8825-18339a2181d6",
   "metadata": {},
   "outputs": [],
   "source": [
    "vectors = [np.random.normal(0, 1, 2048).tolist() for _ in range(5)]\n",
    "ids = ['a', 'b', 'c', 'd', 'e']"
   ]
  },
  {
   "cell_type": "code",
   "execution_count": 14,
   "id": "063b880a-87e6-4316-ac3e-ac32618e6df4",
   "metadata": {},
   "outputs": [],
   "source": [
    "index = client.Index(index_name)"
   ]
  },
  {
   "cell_type": "code",
   "execution_count": null,
   "id": "d574016a-8e69-486d-b1fc-fee693b894e6",
   "metadata": {},
   "outputs": [],
   "source": [
    "index.upsert(vectors=list(zip(ids, vectors)))"
   ]
  },
  {
   "cell_type": "code",
   "execution_count": null,
   "id": "6a3e84c1-afa3-4d40-a08d-03d430101c6e",
   "metadata": {},
   "outputs": [],
   "source": [
    "print(vectors[4])"
   ]
  },
  {
   "cell_type": "markdown",
   "id": "b8ca9056-64c5-46ab-bc97-90332806f7db",
   "metadata": {},
   "source": [
    "### Fetch\n",
    "\n",
    "É o select."
   ]
  },
  {
   "cell_type": "code",
   "execution_count": null,
   "id": "154c7ba3-b9d1-464a-b6e5-24923ee7cdd2",
   "metadata": {},
   "outputs": [],
   "source": [
    "print(index.fetch(ids=['e']))"
   ]
  },
  {
   "cell_type": "markdown",
   "id": "2ef848a5-b6a1-4771-a7e2-164513d76b15",
   "metadata": {},
   "source": [
    "### Delete"
   ]
  },
  {
   "cell_type": "code",
   "execution_count": 15,
   "id": "215fe807-4086-4fc3-b57f-02a19c030a8e",
   "metadata": {},
   "outputs": [
    {
     "data": {
      "text/plain": [
       "{}"
      ]
     },
     "execution_count": 15,
     "metadata": {},
     "output_type": "execute_result"
    }
   ],
   "source": [
    "index.delete(ids=['d', 'e'])"
   ]
  },
  {
   "cell_type": "markdown",
   "id": "91080635-0b6f-4223-b58e-b5ad01a23cd4",
   "metadata": {},
   "source": [
    "### Namespace"
   ]
  },
  {
   "cell_type": "code",
   "execution_count": 16,
   "id": "3e225c0b-4ef5-40d4-bd8e-a337472b845d",
   "metadata": {},
   "outputs": [
    {
     "data": {
      "text/plain": [
       "{'upserted_count': 3}"
      ]
     },
     "execution_count": 16,
     "metadata": {},
     "output_type": "execute_result"
    }
   ],
   "source": [
    "index.upsert(vectors=list(zip(ids, vectors)), namespace='namespace1')\n",
    "index.upsert(\n",
    "    vectors=list(\n",
    "        zip(\n",
    "            ['x', 'y', 'z'],\n",
    "            [np.random.normal(0, 1, 2048).tolist() for _ in range(3)]\n",
    "        )\n",
    "    ),\n",
    "    namespace='namespace2',\n",
    ")"
   ]
  },
  {
   "cell_type": "code",
   "execution_count": 20,
   "id": "b13a1f5b-b0d3-4c13-8699-cd037937eb47",
   "metadata": {},
   "outputs": [
    {
     "data": {
      "text/plain": [
       "[0.46280852, 0.887169302, -0.569534957, -0.168315113, -1.43250644]"
      ]
     },
     "execution_count": 20,
     "metadata": {},
     "output_type": "execute_result"
    }
   ],
   "source": [
    "index.fetch(ids=['a'], namespace='namespace1').vectors['a'].values[:5]"
   ]
  },
  {
   "cell_type": "code",
   "execution_count": 21,
   "id": "e51ccb80-671a-4880-9365-ade3c14b3e37",
   "metadata": {},
   "outputs": [
    {
     "data": {
      "text/plain": [
       "[-0.0607457496, 0.219816417, -0.887565672, -1.05854774, 1.27072155]"
      ]
     },
     "execution_count": 21,
     "metadata": {},
     "output_type": "execute_result"
    }
   ],
   "source": [
    "index.fetch(ids=['x'], namespace='namespace2').vectors['x'].values[:5]"
   ]
  },
  {
   "cell_type": "markdown",
   "id": "470261ae-4551-4747-a2dd-a882f6dbba6d",
   "metadata": {},
   "source": [
    "# Query"
   ]
  },
  {
   "cell_type": "code",
   "execution_count": 22,
   "id": "11a5d0c6-277c-4897-bcdc-c0eb65e70e5d",
   "metadata": {},
   "outputs": [
    {
     "name": "stdout",
     "output_type": "stream",
     "text": [
      "{'matches': [{'id': 'a', 'score': 0.0151115507, 'values': []},\n",
      "             {'id': 'b', 'score': 0.0067648706, 'values': []},\n",
      "             {'id': 'c', 'score': -0.0324835107, 'values': []}],\n",
      " 'namespace': '',\n",
      " 'usage': {'read_units': 5}}\n"
     ]
    }
   ],
   "source": [
    "query = np.random.normal(0, 1, 2048).tolist()\n",
    "print(\n",
    "    index.query(vector=query, top_k=3, include_values=False)\n",
    ")"
   ]
  }
 ],
 "metadata": {
  "kernelspec": {
   "display_name": "Python 3 (ipykernel)",
   "language": "python",
   "name": "python3"
  },
  "language_info": {
   "codemirror_mode": {
    "name": "ipython",
    "version": 3
   },
   "file_extension": ".py",
   "mimetype": "text/x-python",
   "name": "python",
   "nbconvert_exporter": "python",
   "pygments_lexer": "ipython3",
   "version": "3.13.2"
  }
 },
 "nbformat": 4,
 "nbformat_minor": 5
}
