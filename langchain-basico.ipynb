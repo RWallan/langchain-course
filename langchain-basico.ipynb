{
 "cells": [
  {
   "cell_type": "markdown",
   "id": "b81865a8-32bd-402d-a983-2b2525ffc266",
   "metadata": {},
   "source": [
    "# Exemplo básico de LangChain"
   ]
  },
  {
   "cell_type": "markdown",
   "id": "f6a3e92a-b07a-4b78-ab1e-99975fbb2e40",
   "metadata": {},
   "source": [
    "## Setup"
   ]
  },
  {
   "cell_type": "code",
   "execution_count": 2,
   "id": "71e9ccbc-3b90-4fea-aaa9-d0293af5e83b",
   "metadata": {},
   "outputs": [],
   "source": [
    "from langchain_openai import ChatOpenAI, OpenAI\n",
    "from dotenv import find_dotenv, load_dotenv\n",
    "\n",
    "_ = load_dotenv(find_dotenv('.env'))"
   ]
  },
  {
   "cell_type": "markdown",
   "id": "e69b2cb4-cb72-4f4b-9566-82b60216621a",
   "metadata": {},
   "source": [
    "### Parâmetros gerais do LLM"
   ]
  },
  {
   "cell_type": "code",
   "execution_count": null,
   "id": "4cef213f-b1f8-470c-b3a8-720aeeab7e0b",
   "metadata": {},
   "outputs": [],
   "source": [
    "params = {\n",
    "    'frequency_penalty': 1,\n",
    "    'presence_penalty': 1,\n",
    "    'temperature': 1,\n",
    "    'max_tokens': 500,\n",
    "    'n': 1,\n",
    "    'seed': 123,\n",
    "}"
   ]
  },
  {
   "cell_type": "markdown",
   "id": "3605bded-28e9-486a-92d1-39a5d2763f4d",
   "metadata": {},
   "source": [
    "## Completion\n",
    "\n",
    "Uso básico para gerar uma resposta com LLM sem utilizar as `roles`."
   ]
  },
  {
   "cell_type": "code",
   "execution_count": 5,
   "id": "e6d8e83f-fbfd-4867-8f7d-022ed133fa04",
   "metadata": {},
   "outputs": [
    {
     "name": "stdin",
     "output_type": "stream",
     "text": [
      " Quem foi Carl Sagan?\n"
     ]
    },
    {
     "name": "stdout",
     "output_type": "stream",
     "text": [
      "\n",
      "\n",
      "Carl Sagan (1934-1996) foi um renomado cientista, astrônomo, astrofísico, cosmólogo e divulgador científico americano. Ele nasceu em Nova York e desde jovem demonstrou grande interesse pela ciência, especialmente pela astronomia.\n",
      "\n",
      "Durante sua carreira, Sagan fez importantes contribuições para a NASA (Agência Espacial Americana), incluindo seus estudos sobre a atmosfera de Vênus e as sondas espaciais enviadas às luas de Júpiter.\n",
      "\n",
      "Além disso, ele era um importante defensor da exploração espacial e do uso da razão científica para entender o universo. Sagan ficou conhecido por popularizar conceitos complexos da ciência através de livros como \"Cosmos\" e \"O Mundo Assombrado pelos Demônios\", além de séries de televisão como \"Cosmos: Uma Viagem Pessoal\".\n",
      "\n",
      "Suas contribuições no campo da comunicação científica lhe renderam vários prêmios e honrarias ao longo dos anos. Após sua morte em 1996, seu legado continua influenciando gerações futuras na busca pelo conhecimento científico.\n"
     ]
    }
   ],
   "source": [
    "openai = OpenAI(model='gpt-3.5-turbo-instruct')\n",
    "\n",
    "response = openai.invoke(input=input(), **params)\n",
    "print(response)"
   ]
  },
  {
   "cell_type": "markdown",
   "id": "39873c49-a595-4baf-aadb-54acde349837",
   "metadata": {},
   "source": [
    "## Chat\n",
    "\n",
    "Uso básico para gerar resposta com LLM usando as `roles`."
   ]
  },
  {
   "cell_type": "code",
   "execution_count": 7,
   "id": "2e35089d-9524-49d9-9325-04a5f3596cc7",
   "metadata": {},
   "outputs": [
    {
     "name": "stdin",
     "output_type": "stream",
     "text": [
      " Quem foi Carl Sagan?\n"
     ]
    },
    {
     "name": "stdout",
     "output_type": "stream",
     "text": [
      "Carl Sagan foi um renomado astrônomo, astrofísico, cosmólogo e autor americano. Ele nasceu em 1934 e faleceu em 1996. Sagan ficou famoso por popularizar a ciência e a astronomia através de seus livros, séries de televisão, como \"Cosmos\", e suas contribuições para o estudo do Sistema Solar. Ele também foi um defensor da busca por vida extraterrestre. Carl Sagan é considerado uma das figuras mais influentes da divulgação científica do século XX.\n"
     ]
    }
   ],
   "source": [
    "openai = ChatOpenAI(model='gpt-3.5-turbo')\n",
    "messages = [\n",
    "    {\n",
    "        'role': 'system',\n",
    "        'content': 'Você é um assistente que fornece informações sobre figuras históricas'\n",
    "    },\n",
    "    {\n",
    "        'role': 'user',\n",
    "        'content': input()\n",
    "    }\n",
    "]\n",
    "\n",
    "response = openai.invoke(messages, **params)\n",
    "print(response.content)"
   ]
  }
 ],
 "metadata": {
  "kernelspec": {
   "display_name": "Python 3 (ipykernel)",
   "language": "python",
   "name": "python3"
  },
  "language_info": {
   "codemirror_mode": {
    "name": "ipython",
    "version": 3
   },
   "file_extension": ".py",
   "mimetype": "text/x-python",
   "name": "python",
   "nbconvert_exporter": "python",
   "pygments_lexer": "ipython3",
   "version": "3.13.2"
  }
 },
 "nbformat": 4,
 "nbformat_minor": 5
}
