{
 "cells": [
  {
   "cell_type": "markdown",
   "id": "6a64590f-54ff-4b14-8e41-1a5aaf6b419e",
   "metadata": {},
   "source": [
    "# Templates\n",
    "\n",
    "O uso de templates têm como objetivo facilitar e padronizar o prompt para assim trazer informações mais claras para o LLM."
   ]
  },
  {
   "cell_type": "markdown",
   "id": "ae12ca93-9429-4795-8268-2c93ba3e75fd",
   "metadata": {},
   "source": [
    "## Setup"
   ]
  },
  {
   "cell_type": "code",
   "execution_count": 4,
   "id": "be259cd4-79fb-4d05-8e37-d5606a6481a0",
   "metadata": {},
   "outputs": [],
   "source": [
    "from dotenv import find_dotenv, load_dotenv\n",
    "from langchain_openai import ChatOpenAI, OpenAI\n",
    "from langchain_core.messages import AIMessage, HumanMessage, SystemMessage\n",
    "from langchain.prompts import (\n",
    "    ChatPromptTemplate,\n",
    "    HumanMessagePromptTemplate,\n",
    "    PromptTemplate\n",
    ")\n",
    "\n",
    "_ = load_dotenv(find_dotenv('.env'))"
   ]
  },
  {
   "cell_type": "markdown",
   "id": "3cad6d67-f18c-4a80-9c92-8dab78e2f21f",
   "metadata": {},
   "source": [
    "## Completion"
   ]
  },
  {
   "cell_type": "code",
   "execution_count": 6,
   "id": "3033c002-1ab4-417c-a53f-1604a2ab33d5",
   "metadata": {},
   "outputs": [],
   "source": [
    "TEMPLATE = \"\"\"Você é um analista financeiro.\n",
    "Escreva um relatório financeiro detalhado para a empresa \"{empresa}\" para o período {periodo}.\n",
    "\n",
    "O relatório deve ser escrito em {idioma} e incluir as seguintes análises:\n",
    "{analises}\n",
    "\n",
    "Certifique-se de fornecer insights e conclusões para cada seção.\"\"\"\n",
    "\n",
    "prompt_template = PromptTemplate.from_template(TEMPLATE)"
   ]
  },
  {
   "cell_type": "code",
   "execution_count": 7,
   "id": "894dd35d-e20b-42f4-946f-041c52c6f989",
   "metadata": {},
   "outputs": [],
   "source": [
    "EMPRESA = 'ACME Corp'\n",
    "PERIODO = 'Q1 2024'\n",
    "IDIOMA = 'Português'\n",
    "ANALISES = '\\n'.join(\n",
    "    [f'- {analise}' for analise in [\n",
    "            'Análise de balanço patrimonial',\n",
    "            'Análise de fluxo de caixa',\n",
    "            'Análise de tendências',\n",
    "            'Análise de receita e lucro',\n",
    "            'Análise de posição de mercado'\n",
    "        ]\n",
    "    ]\n",
    ")"
   ]
  },
  {
   "cell_type": "code",
   "execution_count": 13,
   "id": "40caa509-b686-45d4-a44c-a0e8f2545498",
   "metadata": {},
   "outputs": [
    {
     "name": "stdout",
     "output_type": "stream",
     "text": [
      "Você é um analista financeiro.\n",
      "Escreva um relatório financeiro detalhado para a empresa \"ACME Corp\" para o período Q1 2024.\n",
      "\n",
      "O relatório deve ser escrito em Português e incluir as seguintes análises:\n",
      "- Análise de balanço patrimonial\n",
      "- Análise de fluxo de caixa\n",
      "- Análise de tendências\n",
      "- Análise de receita e lucro\n",
      "- Análise de posição de mercado\n",
      "\n",
      "Certifique-se de fornecer insights e conclusões para cada seção.\n"
     ]
    }
   ],
   "source": [
    "prompt = prompt_template.format(\n",
    "    empresa=EMPRESA,\n",
    "    periodo=PERIODO,\n",
    "    idioma=IDIOMA,\n",
    "    analises=ANALISES\n",
    ")\n",
    "print(prompt)"
   ]
  },
  {
   "cell_type": "code",
   "execution_count": 11,
   "id": "35e56641-f9da-4fca-a127-2d4c4e29c0d4",
   "metadata": {},
   "outputs": [],
   "source": [
    "openai = OpenAI(model='gpt-3.5-turbo-instruct', max_tokens=2000)"
   ]
  },
  {
   "cell_type": "code",
   "execution_count": null,
   "id": "055c2c00-a960-4925-8055-6ef5e0054a34",
   "metadata": {},
   "outputs": [],
   "source": [
    "response = openai.invoke(prompt)\n",
    "print(response)"
   ]
  },
  {
   "cell_type": "markdown",
   "id": "e7aea1ce-9741-4673-b650-07fe5a22c838",
   "metadata": {},
   "source": [
    "## Chat"
   ]
  },
  {
   "cell_type": "code",
   "execution_count": 15,
   "id": "6a3cb411-018c-4cc6-88b2-634858ce6af2",
   "metadata": {},
   "outputs": [
    {
     "name": "stdout",
     "output_type": "stream",
     "text": [
      "input_variables=['regiao'] input_types={} partial_variables={} messages=[SystemMessage(content='Você deve estruturar suas respostas de acordo com o método de análise de negócios, garantindo clareza e concisão.', additional_kwargs={}, response_metadata={}), HumanMessagePromptTemplate(prompt=PromptTemplate(input_variables=['regiao'], input_types={}, partial_variables={}, template='Por favor, gere um relatório detalhado sobre a indústria de tecnologia na região \"{regiao}\"'), additional_kwargs={}), AIMessage(content='Claro, vou começar coletando informações sobre a região e analisando os dados disponíveis', additional_kwargs={}, response_metadata={}), HumanMessage(content='Certifique-se de incluir uma análise SWOT e uma previsão de crescimento para os próximos 5 anos', additional_kwargs={}, response_metadata={}), AIMessage(content='Entendido. Aqui está o relatório completo', additional_kwargs={}, response_metadata={})]\n"
     ]
    }
   ],
   "source": [
    "chat_template = ChatPromptTemplate.from_messages(\n",
    "    [\n",
    "        SystemMessage(\n",
    "            'Você deve estruturar suas respostas de acordo com o método de análise de negócios, garantindo clareza e concisão.'\n",
    "        ),\n",
    "        HumanMessagePromptTemplate.from_template(\n",
    "            'Por favor, gere um relatório detalhado sobre a indústria de tecnologia na região \"{regiao}\"'\n",
    "        ),\n",
    "        AIMessage(\n",
    "            'Claro, vou começar coletando informações sobre a região e analisando os dados disponíveis'\n",
    "        ),\n",
    "        HumanMessage(\n",
    "            'Certifique-se de incluir uma análise SWOT e uma previsão de crescimento para os próximos 5 anos'\n",
    "        ),\n",
    "        AIMessage(\n",
    "            'Entendido. Aqui está o relatório completo'\n",
    "        ),\n",
    "    ]\n",
    ")\n",
    "print(chat_template)"
   ]
  },
  {
   "cell_type": "code",
   "execution_count": 16,
   "id": "f28d10ab-dca4-48ca-9702-83003e0efa3e",
   "metadata": {},
   "outputs": [
    {
     "name": "stdout",
     "output_type": "stream",
     "text": [
      "[SystemMessage(content='Você deve estruturar suas respostas de acordo com o método de análise de negócios, garantindo clareza e concisão.', additional_kwargs={}, response_metadata={}), HumanMessage(content='Por favor, gere um relatório detalhado sobre a indústria de tecnologia na região \"América Latina\"', additional_kwargs={}, response_metadata={}), AIMessage(content='Claro, vou começar coletando informações sobre a região e analisando os dados disponíveis', additional_kwargs={}, response_metadata={}), HumanMessage(content='Certifique-se de incluir uma análise SWOT e uma previsão de crescimento para os próximos 5 anos', additional_kwargs={}, response_metadata={}), AIMessage(content='Entendido. Aqui está o relatório completo', additional_kwargs={}, response_metadata={})]\n"
     ]
    }
   ],
   "source": [
    "prompt = chat_template.format_messages(regiao='América Latina')\n",
    "print(prompt)"
   ]
  },
  {
   "cell_type": "code",
   "execution_count": 17,
   "id": "dc45137b-92a9-4be2-82d1-b9f205ce959c",
   "metadata": {},
   "outputs": [
    {
     "name": "stdout",
     "output_type": "stream",
     "text": [
      "**Relatório da Indústria de Tecnologia na América Latina**\n",
      "\n",
      "1. **Visão Geral da Indústria de Tecnologia na América Latina**\n",
      "   - A América Latina é uma região em crescimento no setor de tecnologia, impulsionada por uma população jovem, crescente acesso à internet e aumento do investimento em inovação tecnológica.\n",
      "\n",
      "2. **Análise SWOT**\n",
      "   - **Forças (Strengths):**\n",
      "     - Crescente adoção de tecnologias emergentes, como inteligência artificial e blockchain.\n",
      "     - Aumento do investimento em startups e incubadoras na região.\n",
      "     - Mão de obra altamente qualificada em áreas de tecnologia da informação e engenharia.\n",
      "\n",
      "   - **Fraquezas (Weaknesses):**\n",
      "     - Infraestrutura de TI subdesenvolvida em algumas regiões.\n",
      "     - Barreiras linguísticas e diferenças culturais podem dificultar a colaboração regional.\n",
      "     - Dependência de importações de tecnologia em alguns setores.\n",
      "\n",
      "   - **Oportunidades (Opportunities):**\n",
      "     - Expansão do mercado de e-commerce e serviços de tecnologia financeira (fintech).\n",
      "     - Potencial para desenvolvimento de soluções tecnológicas adaptadas às necessidades locais.\n",
      "     - Crescente interesse de investidores estrangeiros em startups latino-americanas.\n",
      "\n",
      "   - **Ameaças (Threats):**\n",
      "     - Instabilidade política e econômica em alguns países da região.\n",
      "     - Competição com mercados mais desenvolvidos, como América do Norte e Europa.\n",
      "     - Riscos de segurança cibernética e proteção de dados pessoais.\n",
      "\n",
      "3. **Previsão de Crescimento para os Próximos 5 Anos**\n",
      "   A indústria de tecnologia na América Latina é esperada para crescer de forma significativa nos próximos 5 anos, impulsionada por vários fatores, tais como:\n",
      "   - Aumento do acesso à internet e à telefonia móvel na região.\n",
      "   - Crescente digitalização de setores tradicionais, como bancos, varejo e saúde.\n",
      "   - Investimentos em infraestrutura de tecnologia e inovação por governos e empresas.\n",
      "   - Atração de investimentos estrangeiros em startups latino-americanas.\n",
      "\n",
      "Com base nesses fatores, prevê-se que a indústria de tecnologia na América Latina crescerá a uma taxa anual de cerca de 8-10% nos próximos 5 anos, com um aumento significativo no número de startups, empregos no setor de tecnologia e desenvolvimento de soluções inovadoras para os desafios locais.\n",
      "\n",
      "Este relatório oferece uma visão abrangente da indústria de tecnologia na América Latina, destacando suas forças, fraquezas, oportunidades, ameaças e previsão de crescimento, fornecendo uma base sólida para análises e tomadas de decisão estratégicas no mercado latino-americano de tecnologia.\n"
     ]
    }
   ],
   "source": [
    "openai = ChatOpenAI(model='gpt-3.5-turbo')\n",
    "response = openai.invoke(prompt)\n",
    "print(response.content)"
   ]
  }
 ],
 "metadata": {
  "kernelspec": {
   "display_name": "Python 3 (ipykernel)",
   "language": "python",
   "name": "python3"
  },
  "language_info": {
   "codemirror_mode": {
    "name": "ipython",
    "version": 3
   },
   "file_extension": ".py",
   "mimetype": "text/x-python",
   "name": "python",
   "nbconvert_exporter": "python",
   "pygments_lexer": "ipython3",
   "version": "3.13.2"
  }
 },
 "nbformat": 4,
 "nbformat_minor": 5
}
