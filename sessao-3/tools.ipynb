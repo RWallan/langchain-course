{
 "cells": [
  {
   "cell_type": "markdown",
   "id": "1cd4f39a-d673-4f02-94fd-83234509cabf",
   "metadata": {},
   "source": [
    "# Tools\n",
    "\n",
    "Tools são o coração do sistema com LLMs pois estas criam a capacidade de LLMs interagirem com o mundo externo."
   ]
  },
  {
   "cell_type": "markdown",
   "id": "187cfdfe-e92e-465f-b654-764df9aa070f",
   "metadata": {},
   "source": [
    "## Setup"
   ]
  },
  {
   "cell_type": "code",
   "execution_count": 10,
   "id": "ce5304aa-2e6c-448c-a55b-bee3f4eb4522",
   "metadata": {},
   "outputs": [],
   "source": [
    "from langchain_community.tools import (\n",
    "    DuckDuckGoSearchResults,\n",
    "    WikipediaQueryRun\n",
    ")\n",
    "from langchain_community.utilities import DuckDuckGoSearchAPIWrapper, WikipediaAPIWrapper\n",
    "from langchain_experimental.utilities import PythonREPL"
   ]
  },
  {
   "cell_type": "markdown",
   "id": "10dfe8bd-86de-40a7-9941-257b8a045e33",
   "metadata": {},
   "source": [
    "## Executar código Python"
   ]
  },
  {
   "cell_type": "code",
   "execution_count": 2,
   "id": "9afbc98f-84d2-4e0a-8a03-2b57d7ffbb1e",
   "metadata": {},
   "outputs": [
    {
     "name": "stderr",
     "output_type": "stream",
     "text": [
      "Python REPL can execute arbitrary code. Use with caution.\n"
     ]
    },
    {
     "name": "stdout",
     "output_type": "stream",
     "text": [
      "25\n",
      "\n"
     ]
    }
   ],
   "source": [
    "python_repl = PythonREPL()\n",
    "result = python_repl.run('print(5*5)')\n",
    "print(result)"
   ]
  },
  {
   "cell_type": "markdown",
   "id": "aef42215-4fbe-4a46-b2aa-6a51a751b35f",
   "metadata": {},
   "source": [
    "## Busca na Web"
   ]
  },
  {
   "cell_type": "code",
   "execution_count": null,
   "id": "e2c7acb0-b3be-47ff-a607-d56b8de463a9",
   "metadata": {
    "scrolled": true
   },
   "outputs": [],
   "source": [
    "ddg_search = DuckDuckGoSearchResults(api_wrapper=DuckDuckGoSearchAPIWrapper())\n",
    "query = 'Qual é a capital da Guiana?'\n",
    "search_results = ddg_search.invoke(query)\n",
    "print(search_results)"
   ]
  },
  {
   "cell_type": "markdown",
   "id": "c35f13f1-b306-430c-88eb-19f23e954790",
   "metadata": {},
   "source": [
    "## Busca na WikiPedia"
   ]
  },
  {
   "cell_type": "code",
   "execution_count": 6,
   "id": "580fe44c-93b3-4c58-8d5a-f4dbf2037daf",
   "metadata": {},
   "outputs": [
    {
     "name": "stdout",
     "output_type": "stream",
     "text": [
      "Page: French Guiana\n",
      "Summary: French Guiana, or Guyane in French, is an overseas department and region of France located on the northern coast of South America in the Guianas and the West Indies. Bordered by Suriname to the west and Brazil to the east and south, French Guiana covers a total area of 84,000 km2 (32,000 sq mi) and a land area of 83,534 km2 (32,253 sq mi). As of January 2025, it is home to 292,354 people.\n",
      "\n",
      "French Guiana is the second-largest region in France, being approximately one-seventh the size of European France, and the largest outermost region within the European Union. It has a very low population density, with only 3.6 inhabitants per square kilometre (9.3/sq mi). About half of its residents live in its capital, Cayenne. Approximately 98.9% of French Guiana is covered by forests, much of it primeval rainforest. Guiana Amazonian Park, the largest national park in the European Union covers 41% of French Guiana's territory.\n",
      "Since December 2015, both the region and department have been ruled by a single assembly within the framework of a single territorial collectivity, the French Guiana Territorial Collectivity. This assembly, the French Guiana Assembly, replaced the former regional and departmental council, which were dissolved. The French Guiana Assembly is in charge of regional and departmental government. Its president is Gabriel Serville.\n",
      "\n",
      "Fully integrated in the French Republic since 1946, French Guiana is a part of the European Union, and its official currency is the euro. A large part of French Guiana's economy depends on jobs and businesses associated with the presence of the Guiana Space Centre, now the European Space Agency's primary launch site near the equator. As elsewhere in France, the official language is standard French, but each ethnic community has its own language, of which French Guianese Creole, a French-based creole language, is the most widely spoken. French Guiana is the only territory on the continental mainland of the Americas that is still under the sovereignty of a European state.\n",
      "The border between French Guiana and Brazil is the longest land border that France shares with another country, as well as one of only two borders which France shares with non-European states, the other being the border with Suriname in the west.\n",
      "\n",
      "Page: The Guianas\n",
      "Summary: The Guianas, also spelled Guyanas or Guayanas, are a geographical region in north-eastern South America. Strictly, the term refers to the three Guianas: Guyana, Suriname, and French Guiana, formerly British, Dutch, and French Guiana respectively. Broadly, it refers to the South American coast from the mouth of the Orinoco to the mouth of the Amazon.\n",
      "Politically it is divided into:\n",
      "\n",
      "Spanish or Venezuelan Guiana, now the Delta Amacuro State and Guayana Region of Venezuela.\n",
      "Guyana, formerly British Guiana, independent since 1966.\n",
      "Suriname, formerly Dutch Guiana, independent since 1975.\n",
      "French Guiana, an overseas department and region of France.\n",
      "Brazilian or Portuguese Guiana, now the Amapá State of Brazil.\n",
      "The three Guianas proper have a combined population of 1,718,651; Guyana: 804,567, Suriname: 612,985, and French Guiana: 301,099. Most of the population is along the coast. Due to the jungles to the south, the Guianas are one of the most sparsely populated regions on Earth.\n",
      "Prior to c. 1815 there was a string of mostly Dutch settlements along the coast which changed hands several times. They were mostly several miles upriver to avoid the coastal marshes which were only drained later. \n",
      "\n",
      "British Guiana (before 1793 part of Dutch Guyana):\n",
      "Pomeroon (colony) (70 miles NW of Georgetown) 165?: Dutch, 1689:abandoned after French destruction, Dutch later return, 1831 to British Guyana.\n",
      "Essequibo (colony) (20 miles NW of Georgetown) c 1616 Dutch, 1665 British occupation, (1781 British, 1782 French occupation, 1783 Dutch), 1793 British, 1831 British Guiana\n",
      "Demerara (Georgetown) 1745 Dutch from Essequibo, 1781-1831: like Essequibo\n",
      "Berbice (114 m\n"
     ]
    }
   ],
   "source": [
    "wikipedia = WikipediaQueryRun(api_wrapper=WikipediaAPIWrapper())\n",
    "query = \"Guiana\"\n",
    "wikipedia_result = wikipedia.run(query)\n",
    "print(wikipedia_result)"
   ]
  },
  {
   "cell_type": "code",
   "execution_count": null,
   "id": "299c7136-f801-4ff9-b9ed-e9906c755130",
   "metadata": {},
   "outputs": [],
   "source": []
  }
 ],
 "metadata": {
  "kernelspec": {
   "display_name": "Python 3 (ipykernel)",
   "language": "python",
   "name": "python3"
  },
  "language_info": {
   "codemirror_mode": {
    "name": "ipython",
    "version": 3
   },
   "file_extension": ".py",
   "mimetype": "text/x-python",
   "name": "python",
   "nbconvert_exporter": "python",
   "pygments_lexer": "ipython3",
   "version": "3.13.2"
  }
 },
 "nbformat": 4,
 "nbformat_minor": 5
}
