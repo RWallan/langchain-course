{
 "cells": [
  {
   "cell_type": "markdown",
   "id": "ebf8a938-532b-415c-aeab-0f47dfa9e419",
   "metadata": {},
   "source": [
    "# Chains\n",
    "\n",
    "Chains é a feature principal do langchain que permite que se construa um pipeline com interações de código, usuário e modelo."
   ]
  },
  {
   "cell_type": "markdown",
   "id": "370b277d-7035-4a5a-b710-d10452ef25a4",
   "metadata": {},
   "source": [
    "## Setup"
   ]
  },
  {
   "cell_type": "code",
   "execution_count": 24,
   "id": "20e14e85-22fd-49be-a7d6-bfd8b3080842",
   "metadata": {},
   "outputs": [],
   "source": [
    "from dotenv import find_dotenv, load_dotenv\n",
    "from langchain_openai import ChatOpenAI, OpenAI\n",
    "from langchain.prompts import PromptTemplate\n",
    "from langchain.document_loaders import TextLoader\n",
    "from langchain_core.messages import AIMessage, HumanMessage, SystemMessage\n",
    "from langchain_core.output_parsers import StrOutputParser\n",
    "\n",
    "_ = load_dotenv(find_dotenv('.env'))"
   ]
  },
  {
   "cell_type": "code",
   "execution_count": 2,
   "id": "99afa0af-d2ed-40c0-9b93-9cda840d03cd",
   "metadata": {},
   "outputs": [],
   "source": [
    "openai = OpenAI(model='gpt-3.5-turbo-instruct', temperature=0)"
   ]
  },
  {
   "cell_type": "markdown",
   "id": "31ccaea2-348c-4e10-9ed0-58618d98fa73",
   "metadata": {},
   "source": [
    "## Simples"
   ]
  },
  {
   "cell_type": "code",
   "execution_count": 4,
   "id": "c92284ca-6026-41d0-a01d-865ef60b456b",
   "metadata": {},
   "outputs": [
    {
     "name": "stdout",
     "output_type": "stream",
     "text": [
      "\n",
      "\n",
      "1. Inteligência Artificial (IA) e Aprendizado de Máquina (Machine Learning): A IA e o Aprendizado de Máquina continuarão a ser tendências tecnológicas dominantes em 2024. Com o avanço da tecnologia, a IA será cada vez mais integrada em diversos setores, como saúde, transporte, finanças e educação. Além disso, o Aprendizado de Máquina permitirá que os sistemas se tornem mais inteligentes e autônomos, aprendendo e se adaptando com base em dados e experiências anteriores.\n",
      "\n",
      "2. Internet das Coisas (IoT): A IoT também continuará a ser uma tendência tecnológica importante em 2024. Com a crescente conectividade entre dispositivos, a IoT permitirá que as pessoas controlem e monitorem suas casas, carros e outros objetos de forma remota. Além disso, a IoT será cada vez mais utilizada em ambientes industriais, permitindo a automação e otimização de processos.\n",
      "\n",
      "3. Realidade Virtual (VR) e Realidade Aumentada (AR): A VR e a AR estão se tornando cada\n"
     ]
    }
   ],
   "source": [
    "prompt_template = PromptTemplate.from_template(\n",
    "    'Descreva as tendências tecnológicas em {ano}'\n",
    ")\n",
    "\n",
    "runnable_sequence = prompt_template | openai\n",
    "output = runnable_sequence.invoke({'ano': '2024'})\n",
    "\n",
    "print(output)"
   ]
  },
  {
   "cell_type": "markdown",
   "id": "caab22fd-89e1-46fb-ae27-0a66eb67bbe4",
   "metadata": {},
   "source": [
    "## Sequencial"
   ]
  },
  {
   "cell_type": "code",
   "execution_count": 6,
   "id": "817db5ed-6962-4867-89c4-3220989b2039",
   "metadata": {},
   "outputs": [],
   "source": [
    "openai = ChatOpenAI(model='gpt-4o-mini', temperature=0)"
   ]
  },
  {
   "cell_type": "code",
   "execution_count": 13,
   "id": "5e087080-b607-4713-a56e-1de79fc28b68",
   "metadata": {},
   "outputs": [],
   "source": [
    "# Base de cohecimento\n",
    "loader = TextLoader('base_conhecimento_britadeira.txt')\n",
    "documents = loader.load()\n",
    "history = \"\"\"Cliente: Minha britadeira não liga.\n",
    "Chatbot: Você já verificou se a bateria está carregada e conectada corretamente?\"\"\"\n",
    "question = \"Já verifiquei e está carregada e conectada, mas ainda não liga\""
   ]
  },
  {
   "cell_type": "code",
   "execution_count": 20,
   "id": "9f1315b5-f30d-4a6a-9005-c5f451c11655",
   "metadata": {},
   "outputs": [],
   "source": [
    "context = '\\n'.join(doc.page_content for doc in documents)"
   ]
  },
  {
   "cell_type": "code",
   "execution_count": 17,
   "id": "05c3ea58-ce55-43ad-8520-c28f3ac1514d",
   "metadata": {},
   "outputs": [],
   "source": [
    "prompt_knowledge = PromptTemplate(\n",
    "    input_variables=['context', 'question'],\n",
    "    template=\"\"\"Use o seguinte manual para responder à pergunta.\n",
    "Responda apenas com base nas informações fornecidas.\n",
    "Não forneça instruções de procedimentos já realizados.\n",
    "Não utilize informações externas ao manual.\n",
    "Manual: {context}\n",
    "Pergunta: {question}\"\"\"\n",
    ")\n",
    "\n",
    "prompt_history = PromptTemplate(\n",
    "    input_variables=['history', 'question'],\n",
    "    template=\"\"\"Use o histórico da conversa para responder à pergunta.\n",
    "Responda apenas com base nas informações fornecidas.\n",
    "Não forneça instruções de procedimentos já realizados.\n",
    "Não utilize informações externas ao manual.\n",
    "Histórico: {history}\n",
    "Pergunta: {question}\"\"\"\n",
    ")\n",
    "\n",
    "prompt_end = PromptTemplate(\n",
    "    input_variables=['response_knownledge', 'response_history'],\n",
    "    template=\"\"\"Combine as seguintas respostas para responder à pergunta.\n",
    "Responda apenas com base nas informações fornecidas.\n",
    "Não forneça instruções de procedimentos já realizados.\n",
    "Resposta a partir da base de conhecimento: {response_knowledge}\n",
    "Resposta a partir do histórico de conversa: {response_history}\"\"\"\n",
    ")"
   ]
  },
  {
   "cell_type": "code",
   "execution_count": 18,
   "id": "3b383798-8dd4-4c97-9d1a-be7125de6fe6",
   "metadata": {},
   "outputs": [],
   "source": [
    "chain_knowledge = prompt_knowledge | openai\n",
    "chain_history = prompt_history | openai\n",
    "chain_end = prompt_end | openai"
   ]
  },
  {
   "cell_type": "code",
   "execution_count": 22,
   "id": "407a711e-120e-443d-9d97-68e01a27cb17",
   "metadata": {},
   "outputs": [
    {
     "name": "stdout",
     "output_type": "stream",
     "text": [
      "Verifique se o interruptor liga/desliga está na posição correta e se há algum fusível queimado ou se o cabo de alimentação está danificado. Se o problema persistir, contate o suporte técnico pelo 0800 555 5555.\n"
     ]
    }
   ],
   "source": [
    "response_knowledge = chain_knowledge.invoke({'context': context, 'question': question})\n",
    "response_history = chain_history.invoke({'history': history, 'question': question})\n",
    "response_end = chain_end.invoke({'response_knowledge': response_knowledge, 'response_history': response_history})\n",
    "\n",
    "print(response_end.content)"
   ]
  },
  {
   "cell_type": "markdown",
   "id": "8c426625-ce15-4241-bac1-d3febd99f4c6",
   "metadata": {},
   "source": [
    "## Router"
   ]
  },
  {
   "cell_type": "code",
   "execution_count": 23,
   "id": "44ec112d-7435-483d-a165-df16896f5d61",
   "metadata": {},
   "outputs": [],
   "source": [
    "openai = OpenAI(model='gpt-3.5-turbo-instruct', temperature=0)"
   ]
  },
  {
   "cell_type": "code",
   "execution_count": 26,
   "id": "1a46a20b-b7a6-468d-89f9-8c308a79449b",
   "metadata": {},
   "outputs": [
    {
     "name": "stdout",
     "output_type": "stream",
     "text": [
      "first=PromptTemplate(input_variables=['query'], input_types={}, partial_variables={}, template='Classifique a pergunta do usuário em uma das seguintes estratégias:\\n- Assuntos financeiros\\n- Suporte técnico\\n- Atualização de cadastro\\n- Outras informações\\n\\nPergunta: {query}\\nClassificação:') middle=[OpenAI(client=<openai.resources.completions.Completions object at 0x7fb36cfecb90>, async_client=<openai.resources.completions.AsyncCompletions object at 0x7fb36cfec910>, temperature=0.0, model_kwargs={}, openai_api_key=SecretStr('**********'))] last=StrOutputParser()\n"
     ]
    }
   ],
   "source": [
    "chain = (\n",
    "    PromptTemplate.from_template(\n",
    "        \"\"\"Classifique a pergunta do usuário em uma das seguintes estratégias:\n",
    "- Assuntos financeiros\n",
    "- Suporte técnico\n",
    "- Atualização de cadastro\n",
    "- Outras informações\n",
    "\n",
    "Pergunta: {query}\n",
    "Classificação:\"\"\"\n",
    "    )\n",
    "    | openai\n",
    "    | StrOutputParser()\n",
    ")\n",
    "\n",
    "print(chain)"
   ]
  },
  {
   "cell_type": "code",
   "execution_count": 27,
   "id": "7966a9ab-df1f-4614-b6b5-605d84161e4f",
   "metadata": {},
   "outputs": [],
   "source": [
    "financial_chain = PromptTemplate.from_template(\n",
    "    \"\"\"Você é um especialista financeiro\n",
    "Sempre responda às perguntas com \"Bem vindo ao Suporte Financeiro\".\n",
    "Responda à pergunta do usuário:\n",
    "Pergunta: {query}\n",
    "Resposta:\"\"\"\n",
    ") | openai\n",
    "tech_chain = PromptTemplate.from_template(\n",
    "    \"\"\"Você é um especialista em suporte técnico \n",
    "Sempre responda às perguntas com \"Bem vindo ao Suporte Técnico\".\n",
    "Responda à pergunta do usuário:\n",
    "Pergunta: {query}\n",
    "Resposta:\"\"\"\n",
    ") | openai\n",
    "registration_chain = PromptTemplate.from_template(\n",
    "    \"\"\"Você é um representante de atendimento ao cliente\n",
    "Sempre responda às perguntas com \"Bem vindo ao Suporte de Cadastro\".\n",
    "Responda à pergunta do usuário:\n",
    "Pergunta: {query}\n",
    "Resposta:\"\"\"\n",
    ") | openai\n",
    "other_chain = PromptTemplate.from_template(\n",
    "    \"\"\"Você é um assistente de informações gerais\n",
    "Sempre responda às perguntas com \"Bem vindo ao Suporte Geral\".\n",
    "Responda à pergunta do usuário:\n",
    "Pergunta: {query}\n",
    "Resposta:\"\"\"\n",
    ") | openai"
   ]
  },
  {
   "cell_type": "code",
   "execution_count": 35,
   "id": "05f24328-7afc-407e-87e0-0713682d8047",
   "metadata": {},
   "outputs": [],
   "source": [
    "def route(info):\n",
    "    topic = info['topic'].lower()\n",
    "    match topic:\n",
    "        case x if 'financeiro' in x:\n",
    "            return financial_chain\n",
    "        case x if 'técnico' in x:\n",
    "            return tech_chain\n",
    "        case x if 'atualização' in x:\n",
    "            return registration_chain\n",
    "        case x if 'cadastro' in x:\n",
    "            return registration_chain\n",
    "        case True:\n",
    "            return other_chain"
   ]
  },
  {
   "cell_type": "code",
   "execution_count": 37,
   "id": "fe84e1c3-f3e3-43e6-9c53-c0fa02a96b9b",
   "metadata": {},
   "outputs": [],
   "source": [
    "QUERY = 'Como faço para redefinir minha senha?'"
   ]
  },
  {
   "cell_type": "code",
   "execution_count": 38,
   "id": "bb84958e-8a02-49d3-9866-846848093e07",
   "metadata": {},
   "outputs": [
    {
     "name": "stdout",
     "output_type": "stream",
     "text": [
      " Suporte técnico\n"
     ]
    }
   ],
   "source": [
    "classification = chain.invoke({'query': QUERY})\n",
    "print(classification)"
   ]
  },
  {
   "cell_type": "code",
   "execution_count": 39,
   "id": "45f95461-e80c-43ce-8826-fb59fb34ad79",
   "metadata": {},
   "outputs": [
    {
     "name": "stdout",
     "output_type": "stream",
     "text": [
      "first=PromptTemplate(input_variables=['query'], input_types={}, partial_variables={}, template='Você é um especialista em suporte técnico \\nSempre responda às perguntas com \"Bem vindo ao Suporte Técnico\".\\nResponda à pergunta do usuário:\\nPergunta: {query}\\nResposta:') middle=[] last=OpenAI(client=<openai.resources.completions.Completions object at 0x7fb36cfecb90>, async_client=<openai.resources.completions.AsyncCompletions object at 0x7fb36cfec910>, temperature=0.0, model_kwargs={}, openai_api_key=SecretStr('**********'))\n"
     ]
    }
   ],
   "source": [
    "response_chain = route({'topic': classification})\n",
    "print(response_chain)"
   ]
  },
  {
   "cell_type": "code",
   "execution_count": 41,
   "id": "ffb8a0f6-db43-4c57-9208-b545fd222dbe",
   "metadata": {},
   "outputs": [
    {
     "name": "stdout",
     "output_type": "stream",
     "text": [
      " Bem vindo ao Suporte Técnico. Para redefinir sua senha, você pode seguir as instruções fornecidas pelo sistema ou entrar em contato conosco para obter assistência adicional. Faremos o possível para ajudá-lo a recuperar o acesso à sua conta.\n"
     ]
    }
   ],
   "source": [
    "response = response_chain.invoke({'query': QUERY})\n",
    "print(response)"
   ]
  }
 ],
 "metadata": {
  "kernelspec": {
   "display_name": "Python 3 (ipykernel)",
   "language": "python",
   "name": "python3"
  },
  "language_info": {
   "codemirror_mode": {
    "name": "ipython",
    "version": 3
   },
   "file_extension": ".py",
   "mimetype": "text/x-python",
   "name": "python",
   "nbconvert_exporter": "python",
   "pygments_lexer": "ipython3",
   "version": "3.13.2"
  }
 },
 "nbformat": 4,
 "nbformat_minor": 5
}
