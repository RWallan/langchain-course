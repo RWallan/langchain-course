{
 "cells": [
  {
   "cell_type": "markdown",
   "id": "728f439d-f9c4-42c2-bb0c-dd6c58ba2c15",
   "metadata": {},
   "source": [
    "# Agents\n",
    "\n",
    "Agentes são aplicações LLM instruídas para fazer uma atividade específica, normalmente utilizando tools."
   ]
  },
  {
   "cell_type": "markdown",
   "id": "5b1cbc53-0a4d-474a-8dcc-06f54431c06a",
   "metadata": {},
   "source": [
    "## Setup"
   ]
  },
  {
   "cell_type": "code",
   "execution_count": 2,
   "id": "9df303ed-d63d-49be-997c-ce67d30e3f99",
   "metadata": {},
   "outputs": [],
   "source": [
    "import pandas as pd\n",
    "from dotenv import find_dotenv, load_dotenv\n",
    "from langchain.prompts import PromptTemplate\n",
    "from langchain_openai import OpenAI\n",
    "from langchain_community.tools import WikipediaQueryRun\n",
    "from langchain_community.utilities import WikipediaAPIWrapper\n",
    "from langchain_experimental.agents.agent_toolkits import create_python_agent"
   ]
  },
  {
   "cell_type": "code",
   "execution_count": 3,
   "id": "b4671cd3-5ea3-4762-9548-2e4e410304c9",
   "metadata": {},
   "outputs": [],
   "source": [
    "_ = load_dotenv(find_dotenv('.env'))"
   ]
  },
  {
   "cell_type": "code",
   "execution_count": 4,
   "id": "a3eaa1f9-e081-480d-8e00-31360fee4320",
   "metadata": {},
   "outputs": [],
   "source": [
    "openai = OpenAI(model='gpt-3.5-turbo-instruct', temperature=0)"
   ]
  },
  {
   "cell_type": "markdown",
   "id": "04e4a923-82a3-4847-bd5c-0db850fd4bed",
   "metadata": {},
   "source": [
    "## Agente de busca e resumo"
   ]
  },
  {
   "cell_type": "code",
   "execution_count": 5,
   "id": "b5f561b3-5b57-4b14-9fea-20e72c05e408",
   "metadata": {},
   "outputs": [],
   "source": [
    "wikipedia = WikipediaQueryRun(api_wrapper=WikipediaAPIWrapper())"
   ]
  },
  {
   "cell_type": "code",
   "execution_count": 6,
   "id": "e9ee63fe-125e-4ce3-88d4-0a7b69dbdbae",
   "metadata": {},
   "outputs": [],
   "source": [
    "agent_executor = create_python_agent(llm=openai, tool=wikipedia, verbose=True)"
   ]
  },
  {
   "cell_type": "code",
   "execution_count": 7,
   "id": "6553a6c9-bdb3-435e-9e91-7122278f1c7d",
   "metadata": {},
   "outputs": [],
   "source": [
    "prompt_template = PromptTemplate.from_template(\n",
    "    'Pesquise no wikipedia sobre {query} e forneça um resumo abrangente sobre o assunto'\n",
    ")"
   ]
  },
  {
   "cell_type": "code",
   "execution_count": 8,
   "id": "270d765d-ea35-4d86-a515-818e3b881e9c",
   "metadata": {},
   "outputs": [],
   "source": [
    "query = 'Carl Sagan'\n",
    "prompt = prompt_template.format(query=query)"
   ]
  },
  {
   "cell_type": "code",
   "execution_count": 9,
   "id": "597be84e-3ba3-49e7-a8f5-78e2e2080542",
   "metadata": {},
   "outputs": [
    {
     "name": "stdout",
     "output_type": "stream",
     "text": [
      "\n",
      "\n",
      "\u001b[1m> Entering new AgentExecutor chain...\u001b[0m\n",
      "\u001b[32;1m\u001b[1;3m I should use the wikipedia wrapper to search for Carl Sagan.\n",
      "Action: wikipedia\n",
      "Action Input: Carl Sagan\u001b[0m\n",
      "Observation: \u001b[36;1m\u001b[1;3mPage: Carl Sagan\n",
      "Summary: Carl Edward Sagan (; SAY-gən; November 9, 1934 – December 20, 1996) was an American astronomer, planetary scientist and science communicator. His best known scientific contribution is his research on the possibility of extraterrestrial life, including experimental demonstration of the production of amino acids from basic chemicals by exposure to light. He assembled the first physical messages sent into space, the Pioneer plaque and the Voyager Golden Record, which were universal messages that could potentially be understood by any extraterrestrial intelligence that might find them. He argued in favor of the hypothesis, which has since been accepted, that the high surface temperatures of Venus are the result of the greenhouse effect.\n",
      "Initially an assistant professor at Harvard, Sagan later moved to Cornell University, where he spent most of his career. He published more than 600 scientific papers and articles and was author, co-author or editor of more than 20 books. He wrote many popular science books, such as The Dragons of Eden, Broca's Brain, Pale Blue Dot and The Demon-Haunted World. He also co-wrote and narrated the award-winning 1980 television series Cosmos: A Personal Voyage, which became the most widely watched series in the history of American public television: Cosmos has been seen by at least 500 million people in 60 countries. A book, also called Cosmos, was published to accompany the series. Sagan also wrote a science-fiction novel, published in 1985, called Contact, which became the basis for the 1997 film Contact. His papers, comprising 595,000 items, are archived in the Library of Congress.\n",
      "Sagan was a popular public advocate of skeptical scientific inquiry and the scientific method; he pioneered the field of exobiology and promoted the search for extraterrestrial intelligence (SETI). He spent most of his career as a professor of astronomy at Cornell University, where he directed the Laboratory for Planetary Studies. Sagan and his works received numerous awards and honors, including the NASA Distinguished Public Service Medal, the National Academy of Sciences Public Welfare Medal, the Pulitzer Prize for General Nonfiction (for his book The Dragons of Eden), and (for Cosmos: A Personal Voyage) two Emmy Awards, the Peabody Award, and the Hugo Award. He married three times and had five children. After developing myelodysplasia, Sagan died of pneumonia at the age of 62 on December 20, 1996.\n",
      "\n",
      "Page: Cosmos (Sagan book)\n",
      "Summary: Cosmos is a popular science book written by astronomer and Pulitzer Prize-winning author Carl Sagan. It was published in 1980 as a companion piece to the PBS mini-series Cosmos: A Personal Voyage with which it was co-developed and intended to complement. Each of the book's 13 illustrated chapters corresponds to one of the 13 episodes of the television series. Just a few of the ideas explored in Cosmos include the history and mutual development of science and civilization, the nature of the Universe, human and robotic space exploration, the inner workings of the cell and the DNA that controls it, and the dangers and future implications of nuclear war. One of Sagan's main purposes for both the book and the television series was to explain complex scientific ideas in a way that anyone interested in learning can understand. Sagan also believed the television was one of the greatest teaching tools ever invented, so he wished to capitalize on his chance to educate the world. Spurred in part by the popularity of the TV series, Cosmos spent 50 weeks on the Publishers Weekly best-sellers list and 70 weeks on the New York Times Best Seller list to become the best-selling science book ever published at the time. In 1981, it received the Hugo Award for Best Non-Fiction Book. The unprecedented success of Cosmos ushered in a dramatic increase in visibility for science-themed literature. The success of the book also served to jumpstart Sagan's literary career. The sequel to Cosmos \u001b[0m\n",
      "Thought:\u001b[32;1m\u001b[1;3m I now know the final answer\n",
      "Final Answer: Cosmos is a popular science book written by astronomer and Pulitzer Prize-winning author Carl Sagan. It was published in 1980 as a companion piece to the PBS mini-series Cosmos: A Personal Voyage with which it was co-developed and intended to complement.\u001b[0m\n",
      "\n",
      "\u001b[1m> Finished chain.\u001b[0m\n",
      "{'input': 'Pesquise no wikipedia sobre Carl Sagan e forneça um resumo abrangente sobre o assunto', 'output': 'Cosmos is a popular science book written by astronomer and Pulitzer Prize-winning author Carl Sagan. It was published in 1980 as a companion piece to the PBS mini-series Cosmos: A Personal Voyage with which it was co-developed and intended to complement.'}\n"
     ]
    }
   ],
   "source": [
    "response = agent_executor.invoke(prompt)\n",
    "print(response)"
   ]
  }
 ],
 "metadata": {
  "kernelspec": {
   "display_name": "Python 3 (ipykernel)",
   "language": "python",
   "name": "python3"
  },
  "language_info": {
   "codemirror_mode": {
    "name": "ipython",
    "version": 3
   },
   "file_extension": ".py",
   "mimetype": "text/x-python",
   "name": "python",
   "nbconvert_exporter": "python",
   "pygments_lexer": "ipython3",
   "version": "3.13.2"
  }
 },
 "nbformat": 4,
 "nbformat_minor": 5
}
