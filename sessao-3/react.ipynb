{
 "cells": [
  {
   "cell_type": "markdown",
   "id": "62b902a8-36a4-466b-aa4d-8ece4f05d96c",
   "metadata": {},
   "source": [
    "# Agentes React"
   ]
  },
  {
   "cell_type": "markdown",
   "id": "596242b7-5fae-4aea-8800-312883eee621",
   "metadata": {},
   "source": [
    "## Setup"
   ]
  },
  {
   "cell_type": "code",
   "execution_count": 1,
   "id": "ea9d10c8-7f99-4029-a559-fb994f9b75b1",
   "metadata": {},
   "outputs": [],
   "source": [
    "from dotenv import find_dotenv, load_dotenv\n",
    "from langchain import hub\n",
    "from langchain.agents import (\n",
    "    AgentExecutor,\n",
    "    create_react_agent,\n",
    "    initialize_agent,\n",
    "    Tool,\n",
    ")\n",
    "from langchain.prompts import PromptTemplate\n",
    "from langchain.tools import WikipediaQueryRun, DuckDuckGoSearchRun\n",
    "from langchain_community.utilities import WikipediaAPIWrapper\n",
    "from langchain_experimental.tools.python.tool import PythonREPLTool\n",
    "from langchain_openai import OpenAI"
   ]
  },
  {
   "cell_type": "code",
   "execution_count": 2,
   "id": "7f145f4c-018d-4b0f-bc36-2e169c22b6f7",
   "metadata": {},
   "outputs": [],
   "source": [
    "_ = load_dotenv(find_dotenv('.env'))"
   ]
  },
  {
   "cell_type": "code",
   "execution_count": 3,
   "id": "58ce94af-78f5-4fa3-a921-b9ae4cdb1800",
   "metadata": {},
   "outputs": [],
   "source": [
    "openai = OpenAI(model='gpt-3.5-turbo-instruct', temperature=0)"
   ]
  },
  {
   "cell_type": "markdown",
   "id": "d73ca611-84f2-49d6-8501-4bf18e6b9af6",
   "metadata": {},
   "source": [
    "## Assistente financeiro"
   ]
  },
  {
   "cell_type": "code",
   "execution_count": 15,
   "id": "991adae6-b6bc-4bae-8730-f5a506522fd9",
   "metadata": {},
   "outputs": [],
   "source": [
    "PROMPT = \"\"\"Como assistente financeiro pessoal, ajude a responder a pergunta e dar dicas.\n",
    "Perguntas: {q}\"\"\"\n",
    "\n",
    "prompt_template = PromptTemplate.from_template(PROMPT)"
   ]
  },
  {
   "cell_type": "code",
   "execution_count": 16,
   "id": "1cc7fb7f-6609-4336-8ae4-7746480a162d",
   "metadata": {},
   "outputs": [
    {
     "name": "stderr",
     "output_type": "stream",
     "text": [
      "/home/rwallan/git/langchain-course/.venv/lib/python3.13/site-packages/langsmith/client.py:272: LangSmithMissingAPIKeyWarning: API key must be provided when using hosted LangSmith API\n",
      "  warnings.warn(\n"
     ]
    },
    {
     "name": "stdout",
     "output_type": "stream",
     "text": [
      "input_variables=['agent_scratchpad', 'input', 'tool_names', 'tools'] input_types={} partial_variables={} metadata={'lc_hub_owner': 'hwchase17', 'lc_hub_repo': 'react', 'lc_hub_commit_hash': 'd15fe3c426f1c4b3f37c9198853e4a86e20c425ca7f4752ec0c9b0e97ca7ea4d'} template='Answer the following questions as best you can. You have access to the following tools:\\n\\n{tools}\\n\\nUse the following format:\\n\\nQuestion: the input question you must answer\\nThought: you should always think about what to do\\nAction: the action to take, should be one of [{tool_names}]\\nAction Input: the input to the action\\nObservation: the result of the action\\n... (this Thought/Action/Action Input/Observation can repeat N times)\\nThought: I now know the final answer\\nFinal Answer: the final answer to the original input question\\n\\nBegin!\\n\\nQuestion: {input}\\nThought:{agent_scratchpad}'\n"
     ]
    }
   ],
   "source": [
    "react_instructions = hub.pull('hwchase17/react')\n",
    "print(react_instructions)"
   ]
  },
  {
   "cell_type": "code",
   "execution_count": 17,
   "id": "1f9bb2ce-6400-4d15-9c1e-c7eb89a7609f",
   "metadata": {},
   "outputs": [],
   "source": [
    "# Ferramenta 1\n",
    "python_repl_tool = Tool(\n",
    "    name='Python REPL',\n",
    "    func=PythonREPLTool().run,\n",
    "    description=\"\"\"Qualquer tipo de cálculo deve usar essa ferramenta.\n",
    "Você não deve realizar o cálculo diretamente, insira o código Python.\"\"\"\n",
    ")"
   ]
  },
  {
   "cell_type": "code",
   "execution_count": 18,
   "id": "c740fdff-fd1a-408a-8bb3-e450a303a2cc",
   "metadata": {},
   "outputs": [],
   "source": [
    "# Ferramenta 2\n",
    "wikipedia_tool = Tool(\n",
    "    name='Busca DuckDuckGo',\n",
    "    func=DuckDuckGoSearchRun().run,\n",
    "    description=\"\"\"Útil para coletar informações e dicas de economia e opções de investimento.\n",
    "Você deve sempre pesquisar na internet as melhores dicas usando esta ferramenta, não responda diretamente.\n",
    "Sua resposta deve informar que há informações coletadas pela internet\"\"\"\n",
    ")"
   ]
  },
  {
   "cell_type": "code",
   "execution_count": null,
   "id": "e51e7000-b2df-402c-84d3-775c05db1414",
   "metadata": {},
   "outputs": [],
   "source": [
    "tools = [python_repl_tool, wikipedia_tool]\n",
    "agent = create_react_agent(openai, tools, react_instructions)\n",
    "\n",
    "agent_executor = AgentExecutor(\n",
    "    agent=agent,\n",
    "    tools=tools,\n",
    "    verbose=True,\n",
    "    handle_parsing_errors=True,\n",
    "    max_iterations=10\n",
    ")\n",
    "\n",
    "# print(agent_executor)"
   ]
  },
  {
   "cell_type": "raw",
   "id": "a8add75d-8397-4cff-b7be-1990b224700f",
   "metadata": {},
   "source": [
    "question = \"\"\"Eu ganho R$ 4000 por mês mas o total das minhas despesas é de R$ 3800 mais 500 de aluguel.\n",
    "Como posso ajustar meu orçamento para economizar dinheiro?\"\"\""
   ]
  },
  {
   "cell_type": "code",
   "execution_count": 22,
   "id": "168987e4-c654-40b6-8c1b-f7a00f5c233a",
   "metadata": {},
   "outputs": [],
   "source": [
    "question = \"\"\"Eu ganho R$ 6000 por mês mas o total das minhas despesas é de R$ 2500 mais 1000 de aluguel.\n",
    "Quais dicas de investimento você me dá?\"\"\""
   ]
  },
  {
   "cell_type": "code",
   "execution_count": 23,
   "id": "baaacb03-7fab-4674-81ae-6ec007ad94c5",
   "metadata": {},
   "outputs": [
    {
     "name": "stdout",
     "output_type": "stream",
     "text": [
      "\n",
      "\n",
      "\u001b[1m> Entering new AgentExecutor chain...\u001b[0m\n",
      "\u001b[32;1m\u001b[1;3m Eu devo usar a ferramenta Python REPL para realizar cálculos e a ferramenta Busca DuckDuckGo para coletar informações e dicas de investimento.\n",
      "Action: Python REPL\n",
      "Action Input: 6000 - (2500 + 1000)\u001b[0m\u001b[36;1m\u001b[1;3m\u001b[0m\u001b[32;1m\u001b[1;3m2500 é o total das minhas despesas e 1000 é o valor do aluguel, então o resultado é o valor que sobra para investir.\n",
      "Action: Busca DuckDuckGo\n",
      "Action Input: \"dicas de investimento\"\u001b[0m"
     ]
    },
    {
     "name": "stderr",
     "output_type": "stream",
     "text": [
      "/home/rwallan/.pyenv/versions/3.13.2/lib/python3.13/asyncio/events.py:89: UserWarning: lxml is not installed. Using backend='api'.\n",
      "  self._context.run(self._callback, *self._args)\n"
     ]
    },
    {
     "name": "stdout",
     "output_type": "stream",
     "text": [
      "\u001b[33;1m\u001b[1;3mPara que você fique dentro de uma zona de conforto de segurança e rentabilidade, a melhor alternativa são os investimentos de renda fixa. Neste caso, você compra a dívida de um banco (como é o caso do CDB ) ou até mesmo do governo (como no caso do Tesouro Direto ) e depois é pago ao final de um prazo com as correções dos juros do ... A Forbes separou 12 dicas de investimento sobre a importância da diversificação, compreensão de risco, gerenciamento de taxas e manutenção de uma perspectiva de longo prazo. Assim, você pode fazer seus investimentos com confiança, preparando-se para um crescimento sustentável e sucesso financeiro ao longo do tempo. Dessa forma, você não depende de um único investimento para obter bons resultados. Outra dica importante é acompanhar o mercado regularmente. Mesmo que você opte por investimentos de longo prazo, estar informado sobre as tendências e mudanças econômicas pode ajudar a tomar decisões mais assertivas. \"Investir é como plantar uma árvore. Uma das melhores opções de investimento a curto prazo para 2025 é o Meu Porquinho do Inter. Essa alternativa é ideal para quem deseja retirar o dinheiro no curto e médio prazo e é perfeito para construir uma reserva de emergência, trocar de carro, investir nos estudos e até mesmo em uma viagem de férias. Outras opções, como os CDBs e LCIs, também são consideradas boas opções de ... A DECO PROteste apresenta 10 dicas essenciais para investir o seu dinheiro com sucesso e de forma segura. Aprenda a gerir as suas poupanças. SUBSCREVER. Contactar especialistas; ... como fundos de investimento ou ações, só mesmo para prazos superiores a cinco anos. De outro modo, corre o risco de atravessar um período menos bom, com quedas ...\u001b[0m\u001b[32;1m\u001b[1;3m Com essas informações, posso sugerir ao meu cliente que invista em renda fixa, diversifique seus investimentos e acompanhe o mercado regularmente.\n",
      "Final Answer: Minha dica de investimento é que você invista em renda fixa, diversifique seus investimentos e acompanhe o mercado regularmente.\u001b[0m\n",
      "\n",
      "\u001b[1m> Finished chain.\u001b[0m\n",
      "{'input': 'Como assistente financeiro pessoal, ajude a responder a pergunta e dar dicas.\\nPerguntas: Eu ganho R$ 6000 por mês mas o total das minhas despesas é de R$ 2500 mais 1000 de aluguel.\\nQuais dicas de investimento você me dá?', 'output': 'Minha dica de investimento é que você invista em renda fixa, diversifique seus investimentos e acompanhe o mercado regularmente.'}\n"
     ]
    }
   ],
   "source": [
    "output = agent_executor.invoke({'input': prompt_template.format(q=question)})\n",
    "print(output)"
   ]
  },
  {
   "cell_type": "code",
   "execution_count": null,
   "id": "7c92c977-0bf2-4c41-8d35-ff4fa51f842a",
   "metadata": {},
   "outputs": [],
   "source": []
  }
 ],
 "metadata": {
  "kernelspec": {
   "display_name": "Python 3 (ipykernel)",
   "language": "python",
   "name": "python3"
  },
  "language_info": {
   "codemirror_mode": {
    "name": "ipython",
    "version": 3
   },
   "file_extension": ".py",
   "mimetype": "text/x-python",
   "name": "python",
   "nbconvert_exporter": "python",
   "pygments_lexer": "ipython3",
   "version": "3.13.2"
  }
 },
 "nbformat": 4,
 "nbformat_minor": 5
}
