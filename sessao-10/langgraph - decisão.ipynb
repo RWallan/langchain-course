{
 "cells": [
  {
   "cell_type": "markdown",
   "id": "76d66e1b-02ff-4f3f-bc86-5e3d1765d7c9",
   "metadata": {},
   "source": [
    "## Processo de decisão\n",
    "\n",
    "Criando um workflow mais complexo utilizando `conditional_edges`."
   ]
  },
  {
   "cell_type": "markdown",
   "id": "6899b741-f85e-49b2-bdd7-9621998f4fe0",
   "metadata": {},
   "source": [
    "## Setup"
   ]
  },
  {
   "cell_type": "code",
   "execution_count": 15,
   "id": "74e9c790-ddd4-44ea-ae37-7299f38565cb",
   "metadata": {},
   "outputs": [],
   "source": [
    "from typing import Literal, TypedDict\n",
    "\n",
    "from dotenv import find_dotenv, load_dotenv\n",
    "from duckduckgo_search import DDGS\n",
    "from IPython.display import display, Image\n",
    "from langgraph.graph import END, StateGraph, START\n",
    "from langgraph.pregel import RetryPolicy\n",
    "from langchain.prompts import ChatPromptTemplate\n",
    "from langchain_core.output_parsers import StrOutputParser\n",
    "from langchain_openai import ChatOpenAI"
   ]
  },
  {
   "cell_type": "code",
   "execution_count": 2,
   "id": "2a4930e5-3a7a-4a9d-b083-ab8af4243210",
   "metadata": {},
   "outputs": [],
   "source": [
    "_ = load_dotenv(find_dotenv('.env'))"
   ]
  },
  {
   "cell_type": "code",
   "execution_count": 10,
   "id": "a5194b98-716f-437f-8a9b-05710045a798",
   "metadata": {},
   "outputs": [],
   "source": [
    "client = ChatOpenAI(model='gpt-3.5-turbo', temperature=0.3)"
   ]
  },
  {
   "cell_type": "markdown",
   "id": "30a4b088-5150-47c5-a1e4-35c12c280423",
   "metadata": {},
   "source": [
    "## State"
   ]
  },
  {
   "cell_type": "code",
   "execution_count": 6,
   "id": "116e5332-a7c2-4072-9178-8495b162637c",
   "metadata": {},
   "outputs": [],
   "source": [
    "class State(TypedDict):\n",
    "    question: str\n",
    "    content: str\n",
    "    response: str"
   ]
  },
  {
   "cell_type": "markdown",
   "id": "9b07111f-669b-4187-88f5-0154a63a968e",
   "metadata": {},
   "source": [
    "## Callback"
   ]
  },
  {
   "cell_type": "code",
   "execution_count": 30,
   "id": "336bd7e5-405b-4b70-98d7-625755675221",
   "metadata": {},
   "outputs": [],
   "source": [
    "def classification(state: State) -> Literal['search', 'llm']:\n",
    "    prompt = ChatPromptTemplate.from_template(\n",
    "        \"\"\"O seu papel é classificar a necessidade do usuário, é necessário fazer uma pesquisa na internet ou utilizar um llm diretamente.\n",
    "\n",
    "Classifique em:\n",
    "    - search\n",
    "    - llm\n",
    "\n",
    "Pergunta: {question}\"\"\"\n",
    "    )\n",
    "    chain = prompt | client | StrOutputParser()\n",
    "    response = chain.invoke({'question': state['question']})\n",
    "\n",
    "    print('Classificação:', response)\n",
    "    if response == 'search':\n",
    "        return 'search'\n",
    "\n",
    "    return 'llm'\n",
    "\n",
    "\n",
    "def search(state: State) -> State:\n",
    "    q = state['question']\n",
    "    print('Pesquisando no DDG:', q)\n",
    "    with DDGS() as ddgs:\n",
    "        results = ddgs.text(q, max_results=1)\n",
    "\n",
    "    if results:\n",
    "        content = '\\n'.join([r['body'] for r in results if 'body' in r])\n",
    "    else:\n",
    "        content = 'Nenhum resultado encontrato'\n",
    "\n",
    "    return {'content': content}\n",
    "\n",
    "\n",
    "def llm(state: State) -> State:\n",
    "    print('Resposta direta do LLM')\n",
    "    prompt = ChatPromptTemplate.from_template(\n",
    "        'Responda a seguinte pergunta: {question}'\n",
    "    )\n",
    "    chain = prompt | client\n",
    "    response = chain.invoke({'question': state['question']})\n",
    "\n",
    "    return {'response': response.content}\n",
    "\n",
    "\n",
    "def synthesize(state: State) -> State:\n",
    "    content = state.get('content', '')\n",
    "    q = state['question']\n",
    "    prompt = ChatPromptTemplate.from_template(\n",
    "        \"\"\"Use o seguinte contexto para responder a pergunta:\n",
    "Contexto: {content}\n",
    "Pergunta: {question}\n",
    "Resposta:\"\"\"\n",
    "    )\n",
    "    chain = prompt | client\n",
    "    response = chain.invoke({'content': content, 'question': q})\n",
    "    print('Resposta gerada')\n",
    "\n",
    "    return {'response': response.content}"
   ]
  },
  {
   "cell_type": "markdown",
   "id": "2cfa9bc9-fa63-41be-8669-af6813aa75a2",
   "metadata": {},
   "source": [
    "## Grafo"
   ]
  },
  {
   "cell_type": "code",
   "execution_count": 31,
   "id": "edcfdafc-c7f2-4c49-a8d8-b3f31edf7c4a",
   "metadata": {},
   "outputs": [],
   "source": [
    "builder = StateGraph(State)\n",
    "builder.add_node('search', search)\n",
    "builder.add_node('llm', llm)\n",
    "builder.add_node('synthesize', synthesize)\n",
    "\n",
    "builder.add_conditional_edges(START, classification)\n",
    "builder.add_edge('llm', END)\n",
    "builder.add_edge('search', 'synthesize')\n",
    "builder.add_edge('synthesize', END)\n",
    "\n",
    "graph = builder.compile()"
   ]
  },
  {
   "cell_type": "code",
   "execution_count": 38,
   "id": "c10f2d40-d921-48b8-8ec4-4181a4ec1ddc",
   "metadata": {},
   "outputs": [
    {
     "data": {
      "image/png": "[encoded data removed]",
      "text/plain": [
       "<IPython.core.display.Image object>"
      ]
     },
     "metadata": {},
     "output_type": "display_data"
    }
   ],
   "source": [
    "display(Image(graph.get_graph().draw_mermaid_png()))"
   ]
  },
  {
   "cell_type": "markdown",
   "id": "98371479-b21b-400c-b9ce-f4f3f234ce6c",
   "metadata": {},
   "source": [
    "## Invoke"
   ]
  },
  {
   "cell_type": "code",
   "execution_count": 32,
   "id": "bd864e6d-e40c-4281-bb1c-bd028193fab0",
   "metadata": {},
   "outputs": [
    {
     "name": "stdout",
     "output_type": "stream",
     "text": [
      "Classificação: search\n",
      "Pesquisando no DDG: Qual é a capital da Alemanha?\n",
      "Resposta gerada\n"
     ]
    },
    {
     "data": {
      "text/plain": [
       "{'question': 'Qual é a capital da Alemanha?',\n",
       " 'content': 'Berlim (em alemão: Berlin, AFI: [bɛʁˈliːn], ouvir ⓘ) é a capital e um dos dezesseis estados da Alemanha.Com uma população de 3,5 milhões dentro de limites da cidade, é a maior cidade do país, e a sétima área urbana mais povoada da União Europeia. [4] Situada no nordeste da Alemanha, é o centro da área metropolitana de Berlim-Brandemburgo, que inclui 5 milhões de pessoas de ...',\n",
       " 'response': 'A capital da Alemanha é Berlim.'}"
      ]
     },
     "execution_count": 32,
     "metadata": {},
     "output_type": "execute_result"
    }
   ],
   "source": [
    "graph.invoke({'question': 'Qual é a capital da Alemanha?'})"
   ]
  },
  {
   "cell_type": "code",
   "execution_count": 34,
   "id": "665da934-ce19-4138-ad7a-71a36b016c4f",
   "metadata": {},
   "outputs": [
    {
     "name": "stdout",
     "output_type": "stream",
     "text": [
      "Classificação: llm\n",
      "Resposta direta do LLM\n"
     ]
    },
    {
     "data": {
      "text/plain": [
       "{'question': 'Sem pesquisar na internet. Qual a capital da Alemanha?',\n",
       " 'response': 'A capital da Alemanha é Berlim.'}"
      ]
     },
     "execution_count": 34,
     "metadata": {},
     "output_type": "execute_result"
    }
   ],
   "source": [
    "graph.invoke(\n",
    "    {'question': 'Sem pesquisar na internet. Qual a capital da Alemanha?'}\n",
    ")"
   ]
  }
 ],
 "metadata": {
  "kernelspec": {
   "display_name": "Python 3 (ipykernel)",
   "language": "python",
   "name": "python3"
  },
  "language_info": {
   "codemirror_mode": {
    "name": "ipython",
    "version": 3
   },
   "file_extension": ".py",
   "mimetype": "text/x-python",
   "name": "python",
   "nbconvert_exporter": "python",
   "pygments_lexer": "ipython3",
   "version": "3.13.2"
  }
 },
 "nbformat": 4,
 "nbformat_minor": 5
}
