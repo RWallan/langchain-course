{
 "cells": [
  {
   "cell_type": "markdown",
   "id": "39a8641e-c3c9-439b-8f13-8a152e05eec8",
   "metadata": {},
   "source": [
    "# LangGrap\n",
    "\n",
    "Um complemento ao LangChain com o uso de grafos. Trazendo maior controle e robustez em workflows complexos."
   ]
  },
  {
   "cell_type": "markdown",
   "id": "99f58190-d563-4094-a148-5d34bc5b2749",
   "metadata": {},
   "source": [
    "## Setup"
   ]
  },
  {
   "cell_type": "code",
   "execution_count": 16,
   "id": "d058dba0-1158-4d5b-ab03-f1e39f58e02d",
   "metadata": {},
   "outputs": [],
   "source": [
    "from typing import TypedDict\n",
    "\n",
    "from IPython.display import display, Image\n",
    "from langgraph.graph import END, StateGraph, START"
   ]
  },
  {
   "cell_type": "markdown",
   "id": "5d537f7a-1a5f-4107-808e-4e57bd11b899",
   "metadata": {},
   "source": [
    "## Estado"
   ]
  },
  {
   "cell_type": "code",
   "execution_count": 2,
   "id": "d606d225-faf2-4680-b5a1-279ef4f18d43",
   "metadata": {},
   "outputs": [],
   "source": [
    "class State(TypedDict):\n",
    "    message: str"
   ]
  },
  {
   "cell_type": "markdown",
   "id": "f6335f2e-e511-4a64-8ed6-c71103b88762",
   "metadata": {},
   "source": [
    "## Callback"
   ]
  },
  {
   "cell_type": "code",
   "execution_count": 3,
   "id": "11b5b34a-81f2-4346-bb3a-fb798698201d",
   "metadata": {},
   "outputs": [],
   "source": [
    "def start_node(state: State):\n",
    "    print('Início do processo')\n",
    "    return {'message': 'Vamos começar!'}\n",
    "\n",
    "\n",
    "def process_node(state: State):\n",
    "    print('Processando', state['message'])\n",
    "    return {'message': state['message'] + ' Agora estamos processando'}\n",
    "\n",
    "\n",
    "def end_node(state: State):\n",
    "    print('Finalizando:', state['message'])\n",
    "    return state"
   ]
  },
  {
   "cell_type": "markdown",
   "id": "6a1d5a58-4eea-4c8e-9cef-888978bc8a75",
   "metadata": {},
   "source": [
    "## Grafo"
   ]
  },
  {
   "cell_type": "code",
   "execution_count": 13,
   "id": "529f1c0d-feb7-484a-a2c7-49af28790d3a",
   "metadata": {},
   "outputs": [
    {
     "data": {
      "text/plain": [
       "<langgraph.graph.state.StateGraph at 0x7f91bb78a850>"
      ]
     },
     "execution_count": 13,
     "metadata": {},
     "output_type": "execute_result"
    }
   ],
   "source": [
    "builder = StateGraph(State)\n",
    "builder.add_node('start_node', start_node)\n",
    "builder.add_node('process_node', process_node)\n",
    "builder.add_node('end_node', end_node)"
   ]
  },
  {
   "cell_type": "markdown",
   "id": "3db9ba32-9134-422c-a30b-8535240f2335",
   "metadata": {},
   "source": [
    "### Edges"
   ]
  },
  {
   "cell_type": "code",
   "execution_count": 14,
   "id": "1b867add-f61c-4f68-bb23-493af8f2abe0",
   "metadata": {},
   "outputs": [
    {
     "data": {
      "text/plain": [
       "<langgraph.graph.state.StateGraph at 0x7f91bb78a850>"
      ]
     },
     "execution_count": 14,
     "metadata": {},
     "output_type": "execute_result"
    }
   ],
   "source": [
    "builder.add_edge(START, 'start_node')\n",
    "builder.add_edge('start_node', 'process_node')\n",
    "builder.add_edge('process_node', 'end_node')\n",
    "builder.add_edge('end_node', END)"
   ]
  },
  {
   "cell_type": "markdown",
   "id": "e839efd1-8ae3-406c-b2f5-e75624e75dd2",
   "metadata": {},
   "source": [
    "## Compile"
   ]
  },
  {
   "cell_type": "code",
   "execution_count": 15,
   "id": "1c006cf3-ec78-48e1-abd2-7c5d8c81cfee",
   "metadata": {},
   "outputs": [],
   "source": [
    "graph = builder.compile()"
   ]
  },
  {
   "cell_type": "markdown",
   "id": "313930fd-4f1c-408a-869c-f5e41eb03b2e",
   "metadata": {},
   "source": [
    "## View"
   ]
  },
  {
   "cell_type": "code",
   "execution_count": 17,
   "id": "1494b824-c383-45c0-9378-96d5bc452b68",
   "metadata": {},
   "outputs": [
    {
     "data": {
      "image/png": "[encoded data removed]",
      "text/plain": [
       "<IPython.core.display.Image object>"
      ]
     },
     "metadata": {},
     "output_type": "display_data"
    }
   ],
   "source": [
    "display(Image(graph.get_graph().draw_mermaid_png()))"
   ]
  },
  {
   "cell_type": "markdown",
   "id": "a6557554-e32c-46ff-a2bc-450a6593380d",
   "metadata": {},
   "source": [
    "## Invoke"
   ]
  },
  {
   "cell_type": "code",
   "execution_count": 18,
   "id": "027b4543-3f7f-460a-82c6-dd4e20371dc0",
   "metadata": {},
   "outputs": [
    {
     "name": "stdout",
     "output_type": "stream",
     "text": [
      "Início do processo\n",
      "Processando Vamos começar!\n",
      "Finalizando: Vamos começar! Agora estamos processando\n"
     ]
    },
    {
     "data": {
      "text/plain": [
       "{'message': 'Vamos começar! Agora estamos processando'}"
      ]
     },
     "execution_count": 18,
     "metadata": {},
     "output_type": "execute_result"
    }
   ],
   "source": [
    "graph.invoke({})"
   ]
  }
 ],
 "metadata": {
  "kernelspec": {
   "display_name": "Python 3 (ipykernel)",
   "language": "python",
   "name": "python3"
  },
  "language_info": {
   "codemirror_mode": {
    "name": "ipython",
    "version": 3
   },
   "file_extension": ".py",
   "mimetype": "text/x-python",
   "name": "python",
   "nbconvert_exporter": "python",
   "pygments_lexer": "ipython3",
   "version": "3.13.2"
  }
 },
 "nbformat": 4,
 "nbformat_minor": 5
}
