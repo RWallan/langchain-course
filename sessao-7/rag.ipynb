{
 "cells": [
  {
   "cell_type": "markdown",
   "id": "a0a89ecc-42e4-49ab-a87f-2f5493930791",
   "metadata": {},
   "source": [
    "## RAG\n",
    "\n",
    "Aplicação de busca semântica em documentos jurídicos usando Retrieval Augment Generation."
   ]
  },
  {
   "cell_type": "markdown",
   "id": "5330c42c-bd13-44bc-945b-0513747c22b2",
   "metadata": {},
   "source": [
    "## Setup"
   ]
  },
  {
   "cell_type": "code",
   "execution_count": 1,
   "id": "9b2db96c-95e3-4478-9a5e-b52982ce9f78",
   "metadata": {},
   "outputs": [
    {
     "name": "stderr",
     "output_type": "stream",
     "text": [
      "/home/rwallan/git/langchain-course/.venv/lib/python3.13/site-packages/tqdm/auto.py:21: TqdmWarning: IProgress not found. Please update jupyter and ipywidgets. See https://ipywidgets.readthedocs.io/en/stable/user_install.html\n",
      "  from .autonotebook import tqdm as notebook_tqdm\n"
     ]
    }
   ],
   "source": [
    "import zipfile\n",
    "from pathlib import Path\n",
    "\n",
    "from dotenv import find_dotenv, load_dotenv\n",
    "from langchain import hub\n",
    "from langchain_core.output_parsers import StrOutputParser\n",
    "from langchain_core.runnables import RunnablePassthrough\n",
    "from langchain.chains import create_retrieval_chain\n",
    "from langchain.chains.combine_documents import create_stuff_documents_chain\n",
    "from langchain.document_loaders import PyMuPDFLoader\n",
    "from langchain.text_splitter import RecursiveCharacterTextSplitter\n",
    "from langchain_openai import ChatOpenAI, OpenAIEmbeddings\n",
    "from langchain_pinecone import PineconeVectorStore"
   ]
  },
  {
   "cell_type": "code",
   "execution_count": 2,
   "id": "9a3661ce-fcf0-4d41-b2c4-231dc7f46f89",
   "metadata": {},
   "outputs": [],
   "source": [
    "_ = load_dotenv(find_dotenv('.env'))"
   ]
  },
  {
   "cell_type": "code",
   "execution_count": 3,
   "id": "31a2e580-4dd3-42bc-b497-b954fb60c761",
   "metadata": {},
   "outputs": [],
   "source": [
    "embedder = OpenAIEmbeddings(model='text-embedding-ada-002')\n",
    "openai = ChatOpenAI(model='gpt-3.5-turbo', temperature=0.2)"
   ]
  },
  {
   "cell_type": "code",
   "execution_count": 4,
   "id": "00ab89fc-d371-4df7-9d7b-6611db055fac",
   "metadata": {},
   "outputs": [],
   "source": [
    "ROOT = Path().cwd()\n",
    "ZIP_FILE = ROOT / 'documentos.zip'\n",
    "EXTRACTED_PATH = ROOT / 'docs'"
   ]
  },
  {
   "cell_type": "markdown",
   "id": "4a6c5a03-e446-42b0-b190-fb1955ebdf0b",
   "metadata": {},
   "source": [
    "## Documentos"
   ]
  },
  {
   "cell_type": "code",
   "execution_count": 5,
   "id": "f41be9f1-4e08-4de9-b4e6-1f126f32b1d3",
   "metadata": {},
   "outputs": [],
   "source": [
    "with zipfile.ZipFile(ZIP_FILE, 'r') as f:\n",
    "    f.extractall(EXTRACTED_PATH)"
   ]
  },
  {
   "cell_type": "code",
   "execution_count": 6,
   "id": "ee144fc9-58d6-4e00-94ef-52feb040e9ea",
   "metadata": {},
   "outputs": [],
   "source": [
    "loaders = [PyMuPDFLoader(doc) for doc in EXTRACTED_PATH.glob('*.pdf')]\n",
    "documents = []\n",
    "for loader in loaders:\n",
    "    documents.extend(loader.load())"
   ]
  },
  {
   "cell_type": "code",
   "execution_count": 7,
   "id": "956c1312-729c-49b8-8665-1dfb85a469d8",
   "metadata": {},
   "outputs": [],
   "source": [
    "text_splitter = RecursiveCharacterTextSplitter(\n",
    "    chunk_size=1000,\n",
    "    chunk_overlap=100,\n",
    "    length_function=len,\n",
    ")\n",
    "chunks = text_splitter.create_documents(\n",
    "    [doc.page_content for doc in documents]\n",
    ")"
   ]
  },
  {
   "cell_type": "markdown",
   "id": "ce2bffb3-ea1d-49c0-b9aa-7b77268368b0",
   "metadata": {},
   "source": [
    "### Vectorstore"
   ]
  },
  {
   "cell_type": "code",
   "execution_count": 8,
   "id": "bb54be1c-4f02-45fd-939b-0d67d9018a71",
   "metadata": {},
   "outputs": [],
   "source": [
    "vector_store = PineconeVectorStore.from_documents(\n",
    "    index_name='llm',\n",
    "    documents=chunks,\n",
    "    embedding=embedder,\n",
    ")"
   ]
  },
  {
   "cell_type": "markdown",
   "id": "61e67c17-93a1-4eec-a7fc-2f69d8e6d946",
   "metadata": {},
   "source": [
    "### Search"
   ]
  },
  {
   "cell_type": "code",
   "execution_count": 9,
   "id": "ec9b3433-6430-4c77-9604-f30630a8ae70",
   "metadata": {},
   "outputs": [],
   "source": [
    "queries = [\n",
    "    'Responda com base apenas no input oferecido. Qual foi o número de processo que trata de violação de normas ambientais pela empresa de construção?',\n",
    "    'Responda com base apenas no input oferecido. Qual foi a decisão no caso de fraude financeira?',\n",
    "    'Responda com base apenas no input oferecido. Quais foram as alegações no caso de negligência médica?',\n",
    "    'Responda com base apenas no input oferecido. Quais foram as alegações no caso 822162'\n",
    "]"
   ]
  },
  {
   "cell_type": "code",
   "execution_count": 10,
   "id": "46b63e93-f5a2-4712-911c-ec90fc943bec",
   "metadata": {},
   "outputs": [],
   "source": [
    "retriever = vector_store.as_retriever(\n",
    "    search_type='similarity',\n",
    "    search_kwargs={'k': 3},\n",
    ")"
   ]
  },
  {
   "cell_type": "markdown",
   "id": "af8a0e42-3c64-4081-882d-4430fc79d526",
   "metadata": {},
   "source": [
    "### Usando create_retrieval_chain"
   ]
  },
  {
   "cell_type": "code",
   "execution_count": 11,
   "id": "338cccd5-fb3e-4631-8a1c-d1bf32113094",
   "metadata": {},
   "outputs": [
    {
     "name": "stderr",
     "output_type": "stream",
     "text": [
      "/home/rwallan/git/langchain-course/.venv/lib/python3.13/site-packages/langsmith/client.py:272: LangSmithMissingAPIKeyWarning: API key must be provided when using hosted LangSmith API\n",
      "  warnings.warn(\n"
     ]
    }
   ],
   "source": [
    "combine_docs_chain = create_stuff_documents_chain(\n",
    "    openai,\n",
    "    hub.pull('langchain-ai/retrieval-qa-chat')\n",
    ")\n",
    "chain = create_retrieval_chain(\n",
    "    retriever,\n",
    "    combine_docs_chain\n",
    ")"
   ]
  },
  {
   "cell_type": "code",
   "execution_count": 12,
   "id": "2a33ece0-0613-4ee8-b032-f32dacd707a0",
   "metadata": {},
   "outputs": [],
   "source": [
    "responses = [chain.invoke({'input': query}) for query in queries]"
   ]
  },
  {
   "cell_type": "code",
   "execution_count": 13,
   "id": "358cbfd5-8ffe-4e12-972d-1de697bf7139",
   "metadata": {},
   "outputs": [
    {
     "name": "stdout",
     "output_type": "stream",
     "text": [
      "Query: Responda com base apenas no input oferecido. Qual foi o número de processo que trata de violação de normas ambientais pela empresa de construção?\n",
      "Resposta: O número do processo que trata de violação de normas ambientais pela empresa de construção é 175543.\n",
      "---\n",
      "Query: Responda com base apenas no input oferecido. Qual foi a decisão no caso de fraude financeira?\n",
      "Resposta: A decisão no caso de fraude financeira envolvendo João Almeida foi de culpado, com uma sentença de dez anos de prisão e a restituição de $1,000,000 ao Banco Nacional.\n",
      "---\n",
      "Query: Responda com base apenas no input oferecido. Quais foram as alegações no caso de negligência médica?\n",
      "Resposta: As alegações no caso de negligência médica foram de que o Dr. Pedro Sousa não realizou os procedimentos médicos com o cuidado necessário, resultando em complicações graves, incluindo uma cirurgia mal-sucedida que levou a infecções adicionais.\n",
      "---\n",
      "Query: Responda com base apenas no input oferecido. Quais foram as alegações no caso 822162\n",
      "Resposta: As alegações no caso 822162 foram de quebra de contrato pela Empresa W contra o Fornecedor K, alegando que o Fornecedor K não entregou os materiais conforme os termos acordados. O Fornecedor K argumentou que a Empresa W mudou as especificações sem aviso prévio.\n",
      "---\n"
     ]
    }
   ],
   "source": [
    "for q, r in zip(queries, responses):\n",
    "    print(f'Query: {q}')\n",
    "    print(f'Resposta: {r[\"answer\"]}')\n",
    "    print('---')"
   ]
  },
  {
   "cell_type": "markdown",
   "id": "bd9c1979-bc22-4b9c-a70d-b5878f03fabd",
   "metadata": {},
   "source": [
    "### Utilizando LCEL"
   ]
  },
  {
   "cell_type": "code",
   "execution_count": 14,
   "id": "842ca056-fc4c-40fd-9302-8dafb117f390",
   "metadata": {},
   "outputs": [],
   "source": [
    "def format_docs(docs):\n",
    "    return '\\n\\n'.join(doc.page_content for doc in docs)"
   ]
  },
  {
   "cell_type": "code",
   "execution_count": 15,
   "id": "eab266f7-11ba-4170-bc44-99016372278a",
   "metadata": {},
   "outputs": [
    {
     "name": "stderr",
     "output_type": "stream",
     "text": [
      "/home/rwallan/git/langchain-course/.venv/lib/python3.13/site-packages/langsmith/client.py:272: LangSmithMissingAPIKeyWarning: API key must be provided when using hosted LangSmith API\n",
      "  warnings.warn(\n"
     ]
    }
   ],
   "source": [
    "qa_chain = (\n",
    "    {\n",
    "        'context': retriever | format_docs,\n",
    "        'question': RunnablePassthrough(),\n",
    "    }\n",
    "    | hub.pull('rlm/rag-prompt')\n",
    "    | openai\n",
    "    | StrOutputParser()\n",
    ")"
   ]
  },
  {
   "cell_type": "code",
   "execution_count": 16,
   "id": "b674d598-effc-410c-a1a6-4b902a107307",
   "metadata": {},
   "outputs": [],
   "source": [
    "responses = [qa_chain.invoke(query) for query in queries]"
   ]
  },
  {
   "cell_type": "code",
   "execution_count": 17,
   "id": "2f8ec35a-f69f-4e8d-9b91-0ecc8e991114",
   "metadata": {},
   "outputs": [
    {
     "name": "stdout",
     "output_type": "stream",
     "text": [
      "Query: Responda com base apenas no input oferecido. Qual foi o número de processo que trata de violação de normas ambientais pela empresa de construção?\n",
      "Resposta: O número do processo que trata de violação de normas ambientais pela empresa de construção é 175543.\n",
      "---\n",
      "Query: Responda com base apenas no input oferecido. Qual foi a decisão no caso de fraude financeira?\n",
      "Resposta: No caso de fraude financeira envolvendo Carlos Pereira, a decisão foi de culpado, com uma sentença de cinco anos de prisão e uma multa de $200,000.\n",
      "---\n",
      "Query: Responda com base apenas no input oferecido. Quais foram as alegações no caso de negligência médica?\n",
      "Resposta: As alegações no caso de negligência médica foram que Dr. Pedro Sousa não realizou os procedimentos médicos com o cuidado necessário, resultando em complicações graves, incluindo uma cirurgia mal-sucedida que levou a infecções adicionais. Depoimentos de especialistas médicos apoiaram as alegações de negligência, resultando na condenação de Dr. Pedro Sousa a pagar uma indenização de $100,000 a favor de Ana Oliveira.\n",
      "---\n",
      "Query: Responda com base apenas no input oferecido. Quais foram as alegações no caso 822162\n",
      "Resposta: As alegações no caso 822162 foram de quebra de contrato pela Empresa W devido ao Fornecedor K não entregar os materiais conforme acordado. O Fornecedor K argumentou que a Empresa W mudou as especificações sem aviso prévio. A resolução foi a favor da Empresa W, com o tribunal ordenando ao Fornecedor K o pagamento de uma indenização de $300,000.\n",
      "---\n"
     ]
    }
   ],
   "source": [
    "for q, r in zip(queries, responses):\n",
    "    print(f'Query: {q}')\n",
    "    print(f'Resposta: {r}')\n",
    "    print('---')"
   ]
  }
 ],
 "metadata": {
  "kernelspec": {
   "display_name": "Python 3 (ipykernel)",
   "language": "python",
   "name": "python3"
  },
  "language_info": {
   "codemirror_mode": {
    "name": "ipython",
    "version": 3
   },
   "file_extension": ".py",
   "mimetype": "text/x-python",
   "name": "python",
   "nbconvert_exporter": "python",
   "pygments_lexer": "ipython3",
   "version": "3.13.2"
  }
 },
 "nbformat": 4,
 "nbformat_minor": 5
}
